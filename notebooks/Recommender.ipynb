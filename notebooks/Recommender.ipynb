{
 "cells": [
  {
   "cell_type": "code",
   "execution_count": 22,
   "id": "b10060f1-1eca-40c0-96a1-b96f8676c2fd",
   "metadata": {},
   "outputs": [
    {
     "name": "stdout",
     "output_type": "stream",
     "text": [
      "Defaulting to user installation because normal site-packages is not writeable\n",
      "Collecting faiss-cpu\n",
      "  Downloading faiss_cpu-1.12.0-cp312-cp312-win_amd64.whl.metadata (5.2 kB)\n",
      "Requirement already satisfied: numpy<3.0,>=1.25.0 in c:\\programdata\\anaconda3\\lib\\site-packages (from faiss-cpu) (1.26.4)\n",
      "Requirement already satisfied: packaging in c:\\programdata\\anaconda3\\lib\\site-packages (from faiss-cpu) (24.1)\n",
      "Downloading faiss_cpu-1.12.0-cp312-cp312-win_amd64.whl (18.2 MB)\n",
      "   ---------------------------------------- 0.0/18.2 MB ? eta -:--:--\n",
      "   - -------------------------------------- 0.5/18.2 MB 5.6 MB/s eta 0:00:04\n",
      "   -- ------------------------------------- 1.3/18.2 MB 4.2 MB/s eta 0:00:05\n",
      "   ---- ----------------------------------- 1.8/18.2 MB 3.6 MB/s eta 0:00:05\n",
      "   ---- ----------------------------------- 2.1/18.2 MB 3.2 MB/s eta 0:00:06\n",
      "   ----- ---------------------------------- 2.6/18.2 MB 2.6 MB/s eta 0:00:06\n",
      "   ------ --------------------------------- 2.9/18.2 MB 2.5 MB/s eta 0:00:07\n",
      "   ------ --------------------------------- 3.1/18.2 MB 2.3 MB/s eta 0:00:07\n",
      "   -------- ------------------------------- 3.7/18.2 MB 2.2 MB/s eta 0:00:07\n",
      "   -------- ------------------------------- 3.9/18.2 MB 2.2 MB/s eta 0:00:07\n",
      "   --------- ------------------------------ 4.5/18.2 MB 2.2 MB/s eta 0:00:07\n",
      "   ---------- ----------------------------- 5.0/18.2 MB 2.2 MB/s eta 0:00:06\n",
      "   ----------- ---------------------------- 5.2/18.2 MB 2.2 MB/s eta 0:00:07\n",
      "   ------------ --------------------------- 5.5/18.2 MB 2.0 MB/s eta 0:00:07\n",
      "   ------------ --------------------------- 5.5/18.2 MB 2.0 MB/s eta 0:00:07\n",
      "   ------------ --------------------------- 5.8/18.2 MB 1.8 MB/s eta 0:00:07\n",
      "   ------------ --------------------------- 5.8/18.2 MB 1.8 MB/s eta 0:00:07\n",
      "   ------------- -------------------------- 6.0/18.2 MB 1.7 MB/s eta 0:00:08\n",
      "   ------------- -------------------------- 6.0/18.2 MB 1.7 MB/s eta 0:00:08\n",
      "   ------------- -------------------------- 6.3/18.2 MB 1.6 MB/s eta 0:00:08\n",
      "   --------------- ------------------------ 6.8/18.2 MB 1.6 MB/s eta 0:00:08\n",
      "   --------------- ------------------------ 7.1/18.2 MB 1.6 MB/s eta 0:00:07\n",
      "   ---------------- ----------------------- 7.3/18.2 MB 1.6 MB/s eta 0:00:07\n",
      "   ----------------- ---------------------- 7.9/18.2 MB 1.6 MB/s eta 0:00:07\n",
      "   ------------------ --------------------- 8.4/18.2 MB 1.6 MB/s eta 0:00:06\n",
      "   ------------------- -------------------- 8.9/18.2 MB 1.7 MB/s eta 0:00:06\n",
      "   -------------------- ------------------- 9.4/18.2 MB 1.7 MB/s eta 0:00:06\n",
      "   ---------------------- ----------------- 10.2/18.2 MB 1.8 MB/s eta 0:00:05\n",
      "   ----------------------- ---------------- 10.7/18.2 MB 1.8 MB/s eta 0:00:05\n",
      "   ------------------------ --------------- 11.3/18.2 MB 1.8 MB/s eta 0:00:04\n",
      "   ------------------------- -------------- 11.8/18.2 MB 1.9 MB/s eta 0:00:04\n",
      "   ------------------------- -------------- 11.8/18.2 MB 1.9 MB/s eta 0:00:04\n",
      "   -------------------------- ------------- 12.1/18.2 MB 1.8 MB/s eta 0:00:04\n",
      "   -------------------------- ------------- 12.1/18.2 MB 1.8 MB/s eta 0:00:04\n",
      "   -------------------------- ------------- 12.1/18.2 MB 1.8 MB/s eta 0:00:04\n",
      "   -------------------------- ------------- 12.1/18.2 MB 1.8 MB/s eta 0:00:04\n",
      "   -------------------------- ------------- 12.1/18.2 MB 1.8 MB/s eta 0:00:04\n",
      "   -------------------------- ------------- 12.1/18.2 MB 1.8 MB/s eta 0:00:04\n",
      "   -------------------------- ------------- 12.1/18.2 MB 1.8 MB/s eta 0:00:04\n",
      "   --------------------------- ------------ 12.3/18.2 MB 1.5 MB/s eta 0:00:04\n",
      "   --------------------------- ------------ 12.3/18.2 MB 1.5 MB/s eta 0:00:04\n",
      "   --------------------------- ------------ 12.6/18.2 MB 1.4 MB/s eta 0:00:04\n",
      "   ---------------------------- ----------- 12.8/18.2 MB 1.4 MB/s eta 0:00:04\n",
      "   ---------------------------- ----------- 13.1/18.2 MB 1.4 MB/s eta 0:00:04\n",
      "   ----------------------------- ---------- 13.4/18.2 MB 1.4 MB/s eta 0:00:04\n",
      "   ----------------------------- ---------- 13.4/18.2 MB 1.4 MB/s eta 0:00:04\n",
      "   ----------------------------- ---------- 13.4/18.2 MB 1.4 MB/s eta 0:00:04\n",
      "   ----------------------------- ---------- 13.4/18.2 MB 1.4 MB/s eta 0:00:04\n",
      "   ------------------------------ --------- 13.6/18.2 MB 1.3 MB/s eta 0:00:04\n",
      "   ------------------------------ --------- 13.6/18.2 MB 1.3 MB/s eta 0:00:04\n",
      "   ------------------------------ --------- 13.6/18.2 MB 1.3 MB/s eta 0:00:04\n",
      "   ------------------------------ --------- 13.6/18.2 MB 1.3 MB/s eta 0:00:04\n",
      "   ------------------------------ --------- 13.6/18.2 MB 1.3 MB/s eta 0:00:04\n",
      "   ------------------------------ --------- 13.6/18.2 MB 1.3 MB/s eta 0:00:04\n",
      "   ------------------------------ --------- 13.9/18.2 MB 1.2 MB/s eta 0:00:04\n",
      "   ------------------------------ --------- 13.9/18.2 MB 1.2 MB/s eta 0:00:04\n",
      "   ------------------------------ --------- 13.9/18.2 MB 1.2 MB/s eta 0:00:04\n",
      "   ------------------------------- -------- 14.2/18.2 MB 1.2 MB/s eta 0:00:04\n",
      "   ------------------------------- -------- 14.2/18.2 MB 1.2 MB/s eta 0:00:04\n",
      "   ------------------------------- -------- 14.2/18.2 MB 1.2 MB/s eta 0:00:04\n",
      "   ------------------------------- -------- 14.2/18.2 MB 1.2 MB/s eta 0:00:04\n",
      "   ------------------------------- -------- 14.4/18.2 MB 1.1 MB/s eta 0:00:04\n",
      "   ------------------------------- -------- 14.4/18.2 MB 1.1 MB/s eta 0:00:04\n",
      "   -------------------------------- ------- 14.7/18.2 MB 1.1 MB/s eta 0:00:04\n",
      "   -------------------------------- ------- 14.7/18.2 MB 1.1 MB/s eta 0:00:04\n",
      "   -------------------------------- ------- 14.9/18.2 MB 1.1 MB/s eta 0:00:04\n",
      "   -------------------------------- ------- 14.9/18.2 MB 1.1 MB/s eta 0:00:04\n",
      "   --------------------------------- ------ 15.2/18.2 MB 1.1 MB/s eta 0:00:03\n",
      "   --------------------------------- ------ 15.2/18.2 MB 1.1 MB/s eta 0:00:03\n",
      "   ---------------------------------- ----- 15.5/18.2 MB 1.0 MB/s eta 0:00:03\n",
      "   ---------------------------------- ----- 15.5/18.2 MB 1.0 MB/s eta 0:00:03\n",
      "   ---------------------------------- ----- 15.7/18.2 MB 1.0 MB/s eta 0:00:03\n",
      "   ----------------------------------- ---- 16.3/18.2 MB 1.0 MB/s eta 0:00:02\n",
      "   ------------------------------------ --- 16.5/18.2 MB 1.0 MB/s eta 0:00:02\n",
      "   ------------------------------------- -- 17.0/18.2 MB 1.1 MB/s eta 0:00:02\n",
      "   -------------------------------------- - 17.6/18.2 MB 1.1 MB/s eta 0:00:01\n",
      "   ---------------------------------------  18.1/18.2 MB 1.1 MB/s eta 0:00:01\n",
      "   ---------------------------------------- 18.2/18.2 MB 1.1 MB/s eta 0:00:00\n",
      "Installing collected packages: faiss-cpu\n",
      "Successfully installed faiss-cpu-1.12.0\n"
     ]
    }
   ],
   "source": [
    "!pip install faiss-cpu"
   ]
  },
  {
   "cell_type": "code",
   "execution_count": 2,
   "id": "6231fa43-4376-4c11-b92d-28e7e058aece",
   "metadata": {},
   "outputs": [],
   "source": [
    "import pandas as pd\n",
    "import faiss\n",
    "from sentence_transformers import SentenceTransformer"
   ]
  },
  {
   "cell_type": "code",
   "execution_count": 3,
   "id": "2a6f65fa-797e-414e-96bc-49d74e8ab7ec",
   "metadata": {},
   "outputs": [],
   "source": [
    "import os"
   ]
  },
  {
   "cell_type": "code",
   "execution_count": 4,
   "id": "fd4fa8dd-a611-4126-8032-a725705bef71",
   "metadata": {},
   "outputs": [],
   "source": [
    "anime_data = pd.read_csv(\"anime_dataset.csv\")"
   ]
  },
  {
   "cell_type": "code",
   "execution_count": 5,
   "id": "dcedb0a7-b9ef-4ffc-be31-c25e6ef889a7",
   "metadata": {},
   "outputs": [
    {
     "name": "stdout",
     "output_type": "stream",
     "text": [
      "<class 'pandas.core.frame.DataFrame'>\n",
      "RangeIndex: 28858 entries, 0 to 28857\n",
      "Data columns (total 58 columns):\n",
      " #   Column                     Non-Null Count  Dtype  \n",
      "---  ------                     --------------  -----  \n",
      " 0   mal_id                     28858 non-null  int64  \n",
      " 1   url                        28858 non-null  object \n",
      " 2   approved                   28858 non-null  bool   \n",
      " 3   title                      28858 non-null  object \n",
      " 4   title_english              12435 non-null  object \n",
      " 5   title_japanese             28737 non-null  object \n",
      " 6   title_synonyms             14266 non-null  object \n",
      " 7   image_jpg_url              28858 non-null  object \n",
      " 8   image_jpg_small_url        28858 non-null  object \n",
      " 9   image_jpg_large_url        28858 non-null  object \n",
      " 10  image_webp_url             28858 non-null  object \n",
      " 11  image_webp_small_url       28858 non-null  object \n",
      " 12  image_webp_large_url       28858 non-null  object \n",
      " 13  trailer_youtube_id         5553 non-null   object \n",
      " 14  trailer_url                5553 non-null   object \n",
      " 15  trailer_embed_url          5554 non-null   object \n",
      " 16  trailer_image_url          5553 non-null   object \n",
      " 17  trailer_small_image_url    5553 non-null   object \n",
      " 18  trailer_medium_image_url   5553 non-null   object \n",
      " 19  trailer_large_image_url    5553 non-null   object \n",
      " 20  trailer_maximum_image_url  5553 non-null   object \n",
      " 21  type                       28777 non-null  object \n",
      " 22  source                     28858 non-null  object \n",
      " 23  episodes                   28110 non-null  float64\n",
      " 24  status                     28858 non-null  object \n",
      " 25  airing                     28858 non-null  bool   \n",
      " 26  duration                   28858 non-null  object \n",
      " 27  rating                     28219 non-null  object \n",
      " 28  score                      18735 non-null  float64\n",
      " 29  scored_by                  18735 non-null  float64\n",
      " 30  rank                       21942 non-null  float64\n",
      " 31  popularity                 28858 non-null  int64  \n",
      " 32  members                    28858 non-null  int64  \n",
      " 33  favorites                  28858 non-null  int64  \n",
      " 34  synopsis                   23750 non-null  object \n",
      " 35  background                 2901 non-null   object \n",
      " 36  aired_from                 27924 non-null  object \n",
      " 37  aired_to                   11115 non-null  object \n",
      " 38  aired_prop_from_day        27924 non-null  float64\n",
      " 39  aired_prop_from_month      27924 non-null  float64\n",
      " 40  aired_prop_from_year       27924 non-null  float64\n",
      " 41  aired_prop_to_day          11115 non-null  float64\n",
      " 42  aired_prop_to_month        11115 non-null  float64\n",
      " 43  aired_prop_to_year         11115 non-null  float64\n",
      " 44  aired_string               28858 non-null  object \n",
      " 45  season                     6220 non-null   object \n",
      " 46  year                       6220 non-null   float64\n",
      " 47  broadcast_day              4162 non-null   object \n",
      " 48  broadcast_time             4162 non-null   object \n",
      " 49  broadcast_timezone         4162 non-null   object \n",
      " 50  broadcast_string           8399 non-null   object \n",
      " 51  producers                  13622 non-null  object \n",
      " 52  licensors                  5137 non-null   object \n",
      " 53  studios                    17187 non-null  object \n",
      " 54  genres                     22914 non-null  object \n",
      " 55  explicit_genres            0 non-null      float64\n",
      " 56  themes                     17020 non-null  object \n",
      " 57  demographics               10765 non-null  object \n",
      "dtypes: bool(2), float64(12), int64(4), object(40)\n",
      "memory usage: 12.4+ MB\n",
      "['mal_id', 'url', 'approved', 'title', 'title_english', 'title_japanese', 'title_synonyms', 'image_jpg_url', 'image_jpg_small_url', 'image_jpg_large_url', 'image_webp_url', 'image_webp_small_url', 'image_webp_large_url', 'trailer_youtube_id', 'trailer_url', 'trailer_embed_url', 'trailer_image_url', 'trailer_small_image_url', 'trailer_medium_image_url', 'trailer_large_image_url', 'trailer_maximum_image_url', 'type', 'source', 'episodes', 'status', 'airing', 'duration', 'rating', 'score', 'scored_by', 'rank', 'popularity', 'members', 'favorites', 'synopsis', 'background', 'aired_from', 'aired_to', 'aired_prop_from_day', 'aired_prop_from_month', 'aired_prop_from_year', 'aired_prop_to_day', 'aired_prop_to_month', 'aired_prop_to_year', 'aired_string', 'season', 'year', 'broadcast_day', 'broadcast_time', 'broadcast_timezone', 'broadcast_string', 'producers', 'licensors', 'studios', 'genres', 'explicit_genres', 'themes', 'demographics']\n"
     ]
    }
   ],
   "source": [
    "anime_data.info()\n",
    "print(anime_data.columns.tolist())"
   ]
  },
  {
   "cell_type": "code",
   "execution_count": 6,
   "id": "cc3f8242-565c-4dbb-aa50-82311fabf928",
   "metadata": {},
   "outputs": [],
   "source": [
    "columns = [\"mal_id\", \"title\", \"image_jpg_url\", \"image_jpg_large_url\", \"type\", \"genres\",\"themes\",\"score\", \"synopsis\", \"year\"]"
   ]
  },
  {
   "cell_type": "code",
   "execution_count": 7,
   "id": "03d3c3be-5f84-4344-9860-c811e7e6b509",
   "metadata": {},
   "outputs": [],
   "source": [
    "data = anime_data[columns].copy()"
   ]
  },
  {
   "cell_type": "code",
   "execution_count": 9,
   "id": "45277278-39e6-438e-bb0f-62607377fb8c",
   "metadata": {},
   "outputs": [
    {
     "data": {
      "text/html": [
       "<div>\n",
       "<style scoped>\n",
       "    .dataframe tbody tr th:only-of-type {\n",
       "        vertical-align: middle;\n",
       "    }\n",
       "\n",
       "    .dataframe tbody tr th {\n",
       "        vertical-align: top;\n",
       "    }\n",
       "\n",
       "    .dataframe thead th {\n",
       "        text-align: right;\n",
       "    }\n",
       "</style>\n",
       "<table border=\"1\" class=\"dataframe\">\n",
       "  <thead>\n",
       "    <tr style=\"text-align: right;\">\n",
       "      <th></th>\n",
       "      <th>mal_id</th>\n",
       "      <th>title</th>\n",
       "      <th>image_jpg_url</th>\n",
       "      <th>image_jpg_large_url</th>\n",
       "      <th>type</th>\n",
       "      <th>genres</th>\n",
       "      <th>themes</th>\n",
       "      <th>score</th>\n",
       "      <th>synopsis</th>\n",
       "      <th>year</th>\n",
       "    </tr>\n",
       "  </thead>\n",
       "  <tbody>\n",
       "    <tr>\n",
       "      <th>125</th>\n",
       "      <td>33746</td>\n",
       "      <td>Anitore! XX: Hitotsu Yane no Shita de</td>\n",
       "      <td>https://cdn.myanimelist.net/images/anime/10/82...</td>\n",
       "      <td>https://cdn.myanimelist.net/images/anime/10/82...</td>\n",
       "      <td>TV</td>\n",
       "      <td>Sports</td>\n",
       "      <td>NaN</td>\n",
       "      <td>5.57</td>\n",
       "      <td>Sequel of Anitore! EX. \\n\\nNew member Sakura I...</td>\n",
       "      <td>2016.0</td>\n",
       "    </tr>\n",
       "    <tr>\n",
       "      <th>141</th>\n",
       "      <td>33771</td>\n",
       "      <td>Cheating Craft</td>\n",
       "      <td>https://cdn.myanimelist.net/images/anime/9/818...</td>\n",
       "      <td>https://cdn.myanimelist.net/images/anime/9/818...</td>\n",
       "      <td>TV</td>\n",
       "      <td>Action, Comedy</td>\n",
       "      <td>School</td>\n",
       "      <td>5.38</td>\n",
       "      <td>In a world where academic success decides your...</td>\n",
       "      <td>2016.0</td>\n",
       "    </tr>\n",
       "    <tr>\n",
       "      <th>144</th>\n",
       "      <td>33775</td>\n",
       "      <td>Soul Buster</td>\n",
       "      <td>https://cdn.myanimelist.net/images/anime/3/822...</td>\n",
       "      <td>https://cdn.myanimelist.net/images/anime/3/822...</td>\n",
       "      <td>TV</td>\n",
       "      <td>Action</td>\n",
       "      <td>Samurai</td>\n",
       "      <td>5.73</td>\n",
       "      <td>Keishuu, China.\\n\\nThe history books say that ...</td>\n",
       "      <td>2016.0</td>\n",
       "    </tr>\n",
       "    <tr>\n",
       "      <th>151</th>\n",
       "      <td>39617</td>\n",
       "      <td>Yakusoku no Neverland 2nd Season</td>\n",
       "      <td>https://cdn.myanimelist.net/images/anime/1815/...</td>\n",
       "      <td>https://cdn.myanimelist.net/images/anime/1815/...</td>\n",
       "      <td>TV</td>\n",
       "      <td>Mystery, Suspense</td>\n",
       "      <td>Psychological, Survival</td>\n",
       "      <td>5.25</td>\n",
       "      <td>Emma, Ray, and the rest of the older children ...</td>\n",
       "      <td>2021.0</td>\n",
       "    </tr>\n",
       "    <tr>\n",
       "      <th>154</th>\n",
       "      <td>39620</td>\n",
       "      <td>Hakata Mentai! Pirikarako-chan</td>\n",
       "      <td>https://cdn.myanimelist.net/images/anime/1562/...</td>\n",
       "      <td>https://cdn.myanimelist.net/images/anime/1562/...</td>\n",
       "      <td>TV</td>\n",
       "      <td>Comedy, Gourmet, Slice of Life</td>\n",
       "      <td>NaN</td>\n",
       "      <td>5.13</td>\n",
       "      <td>A daily eating life happening at a street that...</td>\n",
       "      <td>2019.0</td>\n",
       "    </tr>\n",
       "  </tbody>\n",
       "</table>\n",
       "</div>"
      ],
      "text/plain": [
       "     mal_id                                  title  \\\n",
       "125   33746  Anitore! XX: Hitotsu Yane no Shita de   \n",
       "141   33771                         Cheating Craft   \n",
       "144   33775                            Soul Buster   \n",
       "151   39617       Yakusoku no Neverland 2nd Season   \n",
       "154   39620         Hakata Mentai! Pirikarako-chan   \n",
       "\n",
       "                                         image_jpg_url  \\\n",
       "125  https://cdn.myanimelist.net/images/anime/10/82...   \n",
       "141  https://cdn.myanimelist.net/images/anime/9/818...   \n",
       "144  https://cdn.myanimelist.net/images/anime/3/822...   \n",
       "151  https://cdn.myanimelist.net/images/anime/1815/...   \n",
       "154  https://cdn.myanimelist.net/images/anime/1562/...   \n",
       "\n",
       "                                   image_jpg_large_url type  \\\n",
       "125  https://cdn.myanimelist.net/images/anime/10/82...   TV   \n",
       "141  https://cdn.myanimelist.net/images/anime/9/818...   TV   \n",
       "144  https://cdn.myanimelist.net/images/anime/3/822...   TV   \n",
       "151  https://cdn.myanimelist.net/images/anime/1815/...   TV   \n",
       "154  https://cdn.myanimelist.net/images/anime/1562/...   TV   \n",
       "\n",
       "                             genres                   themes  score  \\\n",
       "125                          Sports                      NaN   5.57   \n",
       "141                  Action, Comedy                   School   5.38   \n",
       "144                          Action                  Samurai   5.73   \n",
       "151               Mystery, Suspense  Psychological, Survival   5.25   \n",
       "154  Comedy, Gourmet, Slice of Life                      NaN   5.13   \n",
       "\n",
       "                                              synopsis    year  \n",
       "125  Sequel of Anitore! EX. \\n\\nNew member Sakura I...  2016.0  \n",
       "141  In a world where academic success decides your...  2016.0  \n",
       "144  Keishuu, China.\\n\\nThe history books say that ...  2016.0  \n",
       "151  Emma, Ray, and the rest of the older children ...  2021.0  \n",
       "154  A daily eating life happening at a street that...  2019.0  "
      ]
     },
     "execution_count": 9,
     "metadata": {},
     "output_type": "execute_result"
    }
   ],
   "source": [
    "data[data[\"year\"] > 2015].head()"
   ]
  },
  {
   "cell_type": "code",
   "execution_count": 8,
   "id": "f77bc309-eecb-40dd-b3cd-fde1a9e82e2b",
   "metadata": {},
   "outputs": [
    {
     "name": "stdout",
     "output_type": "stream",
     "text": [
      "<class 'pandas.core.frame.DataFrame'>\n",
      "RangeIndex: 28858 entries, 0 to 28857\n",
      "Data columns (total 10 columns):\n",
      " #   Column               Non-Null Count  Dtype  \n",
      "---  ------               --------------  -----  \n",
      " 0   mal_id               28858 non-null  int64  \n",
      " 1   title                28858 non-null  object \n",
      " 2   image_jpg_url        28858 non-null  object \n",
      " 3   image_jpg_large_url  28858 non-null  object \n",
      " 4   type                 28777 non-null  object \n",
      " 5   genres               22914 non-null  object \n",
      " 6   themes               17020 non-null  object \n",
      " 7   score                18735 non-null  float64\n",
      " 8   synopsis             23750 non-null  object \n",
      " 9   year                 6220 non-null   float64\n",
      "dtypes: float64(2), int64(1), object(7)\n",
      "memory usage: 2.2+ MB\n"
     ]
    }
   ],
   "source": [
    "data.info()"
   ]
  },
  {
   "cell_type": "markdown",
   "id": "dc043163-98c0-4148-af77-63017de49288",
   "metadata": {},
   "source": [
    "## Filling NaN values"
   ]
  },
  {
   "cell_type": "code",
   "execution_count": 9,
   "id": "b44276f7-ef9f-436e-ae4f-f66a509d3810",
   "metadata": {},
   "outputs": [],
   "source": [
    "data[\"type\"] = data[\"type\"].fillna(\"none_type\") "
   ]
  },
  {
   "cell_type": "code",
   "execution_count": 10,
   "id": "858fc255-135d-4d45-abfd-056586f0dd81",
   "metadata": {},
   "outputs": [],
   "source": [
    "data[\"genres\"] = data[\"genres\"].fillna(\"none\")"
   ]
  },
  {
   "cell_type": "code",
   "execution_count": 11,
   "id": "cb1cb15a-7c23-4f33-94f3-b8ced73ab8fe",
   "metadata": {},
   "outputs": [],
   "source": [
    "data[\"themes\"] = data[\"themes\"].fillna(\"none\")"
   ]
  },
  {
   "cell_type": "code",
   "execution_count": 12,
   "id": "6445a21a-b7d3-4b3d-8f7b-d68c4de2ccf7",
   "metadata": {},
   "outputs": [],
   "source": [
    "data[\"year\"] = data[\"year\"].fillna(9999)"
   ]
  },
  {
   "cell_type": "code",
   "execution_count": 13,
   "id": "ec1fdccc-a7ba-4eef-8b53-787438239c01",
   "metadata": {},
   "outputs": [],
   "source": [
    "df = data.where(data[\"year\"] > 2010)"
   ]
  },
  {
   "cell_type": "code",
   "execution_count": 14,
   "id": "af21da89-a2dd-4397-9530-7cc007a4c845",
   "metadata": {},
   "outputs": [],
   "source": [
    "df = df.dropna()"
   ]
  },
  {
   "cell_type": "code",
   "execution_count": 15,
   "id": "cd805506-41c1-48dc-99e8-952d81107fe4",
   "metadata": {},
   "outputs": [
    {
     "name": "stdout",
     "output_type": "stream",
     "text": [
      "<class 'pandas.core.frame.DataFrame'>\n",
      "Index: 15971 entries, 1 to 28856\n",
      "Data columns (total 10 columns):\n",
      " #   Column               Non-Null Count  Dtype  \n",
      "---  ------               --------------  -----  \n",
      " 0   mal_id               15971 non-null  float64\n",
      " 1   title                15971 non-null  object \n",
      " 2   image_jpg_url        15971 non-null  object \n",
      " 3   image_jpg_large_url  15971 non-null  object \n",
      " 4   type                 15971 non-null  object \n",
      " 5   genres               15971 non-null  object \n",
      " 6   themes               15971 non-null  object \n",
      " 7   score                15971 non-null  float64\n",
      " 8   synopsis             15971 non-null  object \n",
      " 9   year                 15971 non-null  float64\n",
      "dtypes: float64(3), object(7)\n",
      "memory usage: 1.3+ MB\n"
     ]
    }
   ],
   "source": [
    "df.info()"
   ]
  },
  {
   "cell_type": "code",
   "execution_count": 16,
   "id": "47a3b887-e91f-4333-8ae1-bb9aa8b30942",
   "metadata": {},
   "outputs": [
    {
     "data": {
      "text/plain": [
       "(28858, 10)"
      ]
     },
     "execution_count": 16,
     "metadata": {},
     "output_type": "execute_result"
    }
   ],
   "source": [
    "data.shape"
   ]
  },
  {
   "cell_type": "code",
   "execution_count": 17,
   "id": "cc203607-d7fa-4236-8391-bdfbffee1785",
   "metadata": {},
   "outputs": [
    {
     "name": "stdout",
     "output_type": "stream",
     "text": [
      "<class 'pandas.core.frame.DataFrame'>\n",
      "RangeIndex: 28858 entries, 0 to 28857\n",
      "Data columns (total 10 columns):\n",
      " #   Column               Non-Null Count  Dtype  \n",
      "---  ------               --------------  -----  \n",
      " 0   mal_id               28858 non-null  int64  \n",
      " 1   title                28858 non-null  object \n",
      " 2   image_jpg_url        28858 non-null  object \n",
      " 3   image_jpg_large_url  28858 non-null  object \n",
      " 4   type                 28858 non-null  object \n",
      " 5   genres               28858 non-null  object \n",
      " 6   themes               28858 non-null  object \n",
      " 7   score                18735 non-null  float64\n",
      " 8   synopsis             23750 non-null  object \n",
      " 9   year                 28858 non-null  float64\n",
      "dtypes: float64(2), int64(1), object(7)\n",
      "memory usage: 2.2+ MB\n"
     ]
    }
   ],
   "source": [
    "data.info()"
   ]
  },
  {
   "cell_type": "markdown",
   "id": "41519a09-765d-4a76-979f-26c06a3ae40e",
   "metadata": {},
   "source": [
    "### Recomendation"
   ]
  },
  {
   "cell_type": "code",
   "execution_count": 18,
   "id": "46b52efb-36b4-43cd-93ce-72ae88b0bc35",
   "metadata": {},
   "outputs": [],
   "source": [
    "class AnimeRecommender:\n",
    "    def __init__(self, df=None, save_path=None):\n",
    "        \"\"\"\n",
    "        Инициализация: либо из датафрейма, либо из сохраненных данных\n",
    "        \"\"\"\n",
    "        if save_path and os.path.exists(save_path) and df is None:\n",
    "            self._load_from_disk(save_path)\n",
    "        elif df is not None:\n",
    "            self._build_from_scratch(df)\n",
    "            if save_path:\n",
    "                self._save_to_disk(save_path)\n",
    "        else:\n",
    "            raise ValueError(\"Нужно указать либо df, либо save_path\")\n",
    "\n",
    "    def _build_from_scratch(self, df):\n",
    "        \"\"\"Создаем систему с нуля\"\"\"\n",
    "        print(\"Создаем систему рекомендаций с нуля...\")\n",
    "        self.df = df.reset_index(drop=True)\n",
    "        self.model = SentenceTransformer('paraphrase-multilingual-MiniLM-L12-v2')\n",
    "        self.index = None\n",
    "        self._build_index()\n",
    "\n",
    "    def _build_index(self):\n",
    "        \"\"\"Построение FAISS индекса\"\"\"\n",
    "        valid_mask = self.df['synopsis'].notna()\n",
    "        self.valid_indices = self.df[valid_mask].index.tolist()\n",
    "\n",
    "        descriptions = self.df.loc[valid_mask, 'synopsis'].tolist()\n",
    "        print(f\"Кодируем {len(descriptions)} описаний...\")\n",
    "        embeddings = self.model.encode(descriptions)\n",
    "\n",
    "        dimension = embeddings.shape[1]\n",
    "        self.index = faiss.IndexFlatIP(dimension)\n",
    "\n",
    "        embeddings = embeddings.astype('float32')\n",
    "        faiss.normalize_L2(embeddings)\n",
    "        self.index.add(embeddings)\n",
    "        print(f\"Индекс построен! Векторов: {self.index.ntotal}, валидных индексов: {len(self.valid_indices)}\")\n",
    "\n",
    "    def _save_to_disk(self, save_path):\n",
    "        \"\"\"Сохраняем систему на диск\"\"\"\n",
    "        print(f\"Сохраняем систему в {save_path}...\")\n",
    "\n",
    "        os.makedirs(save_path, exist_ok=True)\n",
    "        faiss.write_index(self.index, f\"{save_path}/index.faiss\")\n",
    "        self.df.to_parquet(f\"{save_path}/data.parquet\")\n",
    "\n",
    "        print(\"Сохранение завершено!\")\n",
    "\n",
    "    def _load_from_disk(self, save_path):\n",
    "        \"\"\"Загружаем систему с диска\"\"\"\n",
    "        print(f\"Загружаем систему из {save_path}...\")\n",
    "\n",
    "        self.index = faiss.read_index(f\"{save_path}/index.faiss\")\n",
    "        self.df = pd.read_parquet(f\"{save_path}/data.parquet\")\n",
    "        self.model = SentenceTransformer('paraphrase-multilingual-MiniLM-L12-v2')\n",
    "\n",
    "        print(\"Загрузка завершена!\")\n",
    "\n",
    "    def recommend_by_title(self, title, k=5):\n",
    "        mask = self.df['title'].str.lower() == title.lower()\n",
    "\n",
    "        if not mask.any():\n",
    "            return [f\"Аниме '{title}' не найдено\"]\n",
    "\n",
    "        anime_idx = int(mask[mask].index[0])\n",
    "        return self._get_recommendations(anime_idx, k)\n",
    "\n",
    "    def recommend_by_synopsis(self, synopsis, k=5):\n",
    "        embeddings = self.model.encode([synopsis])\n",
    "\n",
    "        embeddings = embeddings.astype('float32')\n",
    "        faiss.normalize_L2(embeddings)\n",
    "\n",
    "        distances, indices = self.index.search(embeddings, k)\n",
    "\n",
    "        results = []\n",
    "        for i, idx in enumerate(indices[0]):\n",
    "            original_idx = self.valid_indices[idx]\n",
    "            row = self.df.iloc[original_idx]\n",
    "            results.append({\n",
    "                \"title\": row[\"title\"],\n",
    "                \"similarity\": float(distances[0][i]),\n",
    "                \"genres\": row.get(\"genres\", \"\")\n",
    "            })\n",
    "\n",
    "        return results\n",
    "\n",
    "    def _get_recommendations(self, query_idx, k):\n",
    "        query_vector = self.index.reconstruct(query_idx).reshape(1, -1)\n",
    "        distances, indices = self.index.search(query_vector.astype('float32'), k + 1)\n",
    "\n",
    "        results = []\n",
    "        for i, idx in enumerate(indices[0]):\n",
    "            if idx != query_idx:\n",
    "                row = self.df.iloc[idx]\n",
    "                results.append({\n",
    "                    'title': row['title'],\n",
    "                    'similarity': float(distances[0][i]),\n",
    "                    'genres': row.get('genres', '')\n",
    "                })\n",
    "        return results"
   ]
  },
  {
   "cell_type": "code",
   "execution_count": 20,
   "id": "acac00cb-ae7c-40b7-8bd3-e9a06541a1a1",
   "metadata": {},
   "outputs": [
    {
     "name": "stdout",
     "output_type": "stream",
     "text": [
      "Создаем систему рекомендаций с нуля...\n",
      "Кодируем 15971 описаний...\n",
      "Индекс построен! Векторов: 15971, валидных индексов: 15971\n",
      "Сохраняем систему в C:/Desktop/Desktop...\n",
      "Сохранение завершено!\n"
     ]
    }
   ],
   "source": [
    "anm = AnimeRecommender(df=df, save_path=\"C:/Desktop/Desktop\")"
   ]
  },
  {
   "cell_type": "code",
   "execution_count": 30,
   "id": "0e519384-2b88-4d37-a825-7ec6cdd550aa",
   "metadata": {},
   "outputs": [],
   "source": [
    "description = \"Мисуми Макото был обычным подростком, которого внезапно призвали в другой мир в качестве «героя». Но богиня этого мира назвала его уродливым, лишила звания героя и сослала в самый дальний уголок своего мира. В этих пустошах он встречает драконов, пауков, орков, дворфов и множество других нечеловеческих рас. У Макото обнаруживаются способности к магии и военному ремеслу, которых у него не могло быть в родном мире. Его ждёт множество встреч, но сумеет ли он выжить в этом новом мире?\""
   ]
  },
  {
   "cell_type": "code",
   "execution_count": 31,
   "id": "e33853d2-1c3b-4f2f-bb90-bd411b5a1d39",
   "metadata": {},
   "outputs": [],
   "source": [
    "describe_eng = \"People is a strong young man who leads the ordinary life of a high school student. One day, in order to save his friends from being attacked by curses, he eats the finger of a Two-faced ghost, which becomes a part of his soul. From that moment on, he shares his body with him. Under the supervision of Satoru Gojo, one of the strongest magicians, Itadori enters a magic college, where they teach how to fight curses.\""
   ]
  },
  {
   "cell_type": "code",
   "execution_count": 32,
   "id": "183968e8-cd5b-4df7-b1df-b6ce62ec04ae",
   "metadata": {},
   "outputs": [
    {
     "data": {
      "text/plain": [
       "[{'title': 'Tsuki ga Michibiku Isekai Douchuu',\n",
       "  'similarity': 0.7019407749176025,\n",
       "  'genres': 'Action, Adventure, Comedy, Fantasy'},\n",
       " {'title': 'Munou na Nana',\n",
       "  'similarity': 0.6984963417053223,\n",
       "  'genres': 'Suspense'},\n",
       " {'title': 'Haiyore! Nyaruko-san',\n",
       "  'similarity': 0.6754025220870972,\n",
       "  'genres': 'Comedy, Sci-Fi'},\n",
       " {'title': 'Hagure Yuusha no Aesthetica',\n",
       "  'similarity': 0.6716626882553101,\n",
       "  'genres': 'Action, Fantasy, Ecchi'},\n",
       " {'title': 'Sayonara no Asa ni Yakusoku no Hana wo Kazarou',\n",
       "  'similarity': 0.6681832075119019,\n",
       "  'genres': 'Drama, Fantasy'}]"
      ]
     },
     "execution_count": 32,
     "metadata": {},
     "output_type": "execute_result"
    }
   ],
   "source": [
    "anm.recommend_by_synopsis(description)"
   ]
  },
  {
   "cell_type": "code",
   "execution_count": null,
   "id": "900a5104-78e9-457e-9b7a-b83d03241f19",
   "metadata": {},
   "outputs": [],
   "source": []
  }
 ],
 "metadata": {
  "kernelspec": {
   "display_name": "Python 3 (ipykernel)",
   "language": "python",
   "name": "python3"
  },
  "language_info": {
   "codemirror_mode": {
    "name": "ipython",
    "version": 3
   },
   "file_extension": ".py",
   "mimetype": "text/x-python",
   "name": "python",
   "nbconvert_exporter": "python",
   "pygments_lexer": "ipython3",
   "version": "3.12.7"
  }
 },
 "nbformat": 4,
 "nbformat_minor": 5
}
