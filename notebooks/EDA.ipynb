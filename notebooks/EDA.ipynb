{
 "cells": [
  {
   "cell_type": "code",
   "execution_count": 1,
   "id": "d56c0153-89e3-4e53-bc50-b4e05c3453ff",
   "metadata": {},
   "outputs": [],
   "source": [
    "import pandas as pd\n",
    "import matplotlib.pyplot as plt\n",
    "import seaborn as sns\n",
    "from collections import Counter"
   ]
  },
  {
   "cell_type": "code",
   "execution_count": 2,
   "id": "6293bee2-5d45-4ac7-a11f-92226bfc2c71",
   "metadata": {},
   "outputs": [],
   "source": [
    "def show_column_values(column: str, count: int):\n",
    "    for i in data.loc[0:count, column]:\n",
    "        print(i)"
   ]
  },
  {
   "cell_type": "code",
   "execution_count": 3,
   "id": "35415326-3a6f-498a-81dc-95a29e953053",
   "metadata": {},
   "outputs": [],
   "source": [
    "def build_barplot(data, column_name=None):\n",
    "    \"\"\"\n",
    "    Универсальная функция для построения barplot\n",
    "    data - DataFrame с данными\n",
    "    column_name - опционально, если нужно посчитать value_counts\n",
    "    \"\"\"\n",
    "    if column_name:\n",
    "        value_counts = data[column_name].value_counts()\n",
    "        df_plot = pd.DataFrame({\n",
    "            'category': value_counts.index,\n",
    "            'count': value_counts.values\n",
    "        })\n",
    "    else:\n",
    "        values = []\n",
    "        for i in data.values:\n",
    "            values.extend(i)\n",
    "        df_plot = pd.DataFrame({\n",
    "            'category': data.index,\n",
    "            'count': values\n",
    "        })\n",
    "\n",
    "    plt.figure(figsize=(12, 8))\n",
    "    ax = sns.barplot(data=df_plot, x='category', y='count', palette='viridis', hue=\"count\")\n",
    "    \n",
    "    for i, row in df_plot.iterrows():\n",
    "        ax.text(i, row['count'] + 100, str(row['count']), \n",
    "                ha='center', va='bottom', fontsize=10, fontweight='bold')\n",
    "    \n",
    "    plt.title('Distribution of Anime Genres', fontsize=14, pad=20)\n",
    "    plt.xlabel('Genres')\n",
    "    plt.ylabel('Count')\n",
    "    plt.xticks(rotation=45, ha='right')\n",
    "    plt.tight_layout()\n",
    "    plt.show()\n",
    "\n",
    "    return df_plot"
   ]
  },
  {
   "cell_type": "code",
   "execution_count": 4,
   "id": "67e3de70-c9cf-4d2a-be90-b945df4144e1",
   "metadata": {},
   "outputs": [],
   "source": [
    "data = pd.read_csv(\"anime_dataset.csv\")"
   ]
  },
  {
   "cell_type": "code",
   "execution_count": 5,
   "id": "e6c1edc8-854c-4165-aab0-8f15d4fbd88d",
   "metadata": {},
   "outputs": [
    {
     "data": {
      "text/plain": [
       "(28858, 58)"
      ]
     },
     "execution_count": 5,
     "metadata": {},
     "output_type": "execute_result"
    }
   ],
   "source": [
    "data.shape"
   ]
  },
  {
   "cell_type": "code",
   "execution_count": null,
   "id": "74c0c224-2904-4c3f-a976-084fbdf8f9a1",
   "metadata": {},
   "outputs": [],
   "source": []
  },
  {
   "cell_type": "code",
   "execution_count": 6,
   "id": "99bd3ef1-b35f-4ced-bede-e0b4df27a7a1",
   "metadata": {},
   "outputs": [
    {
     "data": {
      "text/html": [
       "<div>\n",
       "<style scoped>\n",
       "    .dataframe tbody tr th:only-of-type {\n",
       "        vertical-align: middle;\n",
       "    }\n",
       "\n",
       "    .dataframe tbody tr th {\n",
       "        vertical-align: top;\n",
       "    }\n",
       "\n",
       "    .dataframe thead th {\n",
       "        text-align: right;\n",
       "    }\n",
       "</style>\n",
       "<table border=\"1\" class=\"dataframe\">\n",
       "  <thead>\n",
       "    <tr style=\"text-align: right;\">\n",
       "      <th></th>\n",
       "      <th>mal_id</th>\n",
       "      <th>url</th>\n",
       "      <th>approved</th>\n",
       "      <th>title</th>\n",
       "      <th>title_english</th>\n",
       "      <th>title_japanese</th>\n",
       "      <th>title_synonyms</th>\n",
       "      <th>image_jpg_url</th>\n",
       "      <th>image_jpg_small_url</th>\n",
       "      <th>image_jpg_large_url</th>\n",
       "      <th>...</th>\n",
       "      <th>broadcast_time</th>\n",
       "      <th>broadcast_timezone</th>\n",
       "      <th>broadcast_string</th>\n",
       "      <th>producers</th>\n",
       "      <th>licensors</th>\n",
       "      <th>studios</th>\n",
       "      <th>genres</th>\n",
       "      <th>explicit_genres</th>\n",
       "      <th>themes</th>\n",
       "      <th>demographics</th>\n",
       "    </tr>\n",
       "  </thead>\n",
       "  <tbody>\n",
       "    <tr>\n",
       "      <th>0</th>\n",
       "      <td>1</td>\n",
       "      <td>https://myanimelist.net/anime/1/Cowboy_Bebop</td>\n",
       "      <td>True</td>\n",
       "      <td>Cowboy Bebop</td>\n",
       "      <td>Cowboy Bebop</td>\n",
       "      <td>カウボーイビバップ</td>\n",
       "      <td>NaN</td>\n",
       "      <td>https://cdn.myanimelist.net/images/anime/4/196...</td>\n",
       "      <td>https://cdn.myanimelist.net/images/anime/4/196...</td>\n",
       "      <td>https://cdn.myanimelist.net/images/anime/4/196...</td>\n",
       "      <td>...</td>\n",
       "      <td>01:00</td>\n",
       "      <td>Asia/Tokyo</td>\n",
       "      <td>Saturdays at 01:00 (JST)</td>\n",
       "      <td>Bandai Visual, Victor Entertainment, Audio Pla...</td>\n",
       "      <td>Funimation</td>\n",
       "      <td>Sunrise</td>\n",
       "      <td>Action, Award Winning, Sci-Fi</td>\n",
       "      <td>NaN</td>\n",
       "      <td>Adult Cast, Space</td>\n",
       "      <td>NaN</td>\n",
       "    </tr>\n",
       "    <tr>\n",
       "      <th>1</th>\n",
       "      <td>5</td>\n",
       "      <td>https://myanimelist.net/anime/5/Cowboy_Bebop__...</td>\n",
       "      <td>True</td>\n",
       "      <td>Cowboy Bebop: Tengoku no Tobira</td>\n",
       "      <td>Cowboy Bebop: The Movie</td>\n",
       "      <td>カウボーイビバップ 天国の扉</td>\n",
       "      <td>Cowboy Bebop: Knockin' on Heaven's Door</td>\n",
       "      <td>https://cdn.myanimelist.net/images/anime/1439/...</td>\n",
       "      <td>https://cdn.myanimelist.net/images/anime/1439/...</td>\n",
       "      <td>https://cdn.myanimelist.net/images/anime/1439/...</td>\n",
       "      <td>...</td>\n",
       "      <td>NaN</td>\n",
       "      <td>NaN</td>\n",
       "      <td>NaN</td>\n",
       "      <td>Sunrise, Bandai Visual</td>\n",
       "      <td>Sony Pictures Entertainment, Funimation</td>\n",
       "      <td>Bones</td>\n",
       "      <td>Action, Sci-Fi</td>\n",
       "      <td>NaN</td>\n",
       "      <td>Adult Cast, Space</td>\n",
       "      <td>NaN</td>\n",
       "    </tr>\n",
       "    <tr>\n",
       "      <th>2</th>\n",
       "      <td>6</td>\n",
       "      <td>https://myanimelist.net/anime/6/Trigun</td>\n",
       "      <td>True</td>\n",
       "      <td>Trigun</td>\n",
       "      <td>Trigun</td>\n",
       "      <td>トライガン</td>\n",
       "      <td>NaN</td>\n",
       "      <td>https://cdn.myanimelist.net/images/anime/1130/...</td>\n",
       "      <td>https://cdn.myanimelist.net/images/anime/1130/...</td>\n",
       "      <td>https://cdn.myanimelist.net/images/anime/1130/...</td>\n",
       "      <td>...</td>\n",
       "      <td>01:15</td>\n",
       "      <td>Asia/Tokyo</td>\n",
       "      <td>Thursdays at 01:15 (JST)</td>\n",
       "      <td>Victor Entertainment</td>\n",
       "      <td>Funimation</td>\n",
       "      <td>Madhouse</td>\n",
       "      <td>Action, Adventure, Sci-Fi</td>\n",
       "      <td>NaN</td>\n",
       "      <td>Adult Cast</td>\n",
       "      <td>Shounen</td>\n",
       "    </tr>\n",
       "    <tr>\n",
       "      <th>3</th>\n",
       "      <td>7</td>\n",
       "      <td>https://myanimelist.net/anime/7/Witch_Hunter_R...</td>\n",
       "      <td>True</td>\n",
       "      <td>Witch Hunter Robin</td>\n",
       "      <td>Witch Hunter Robin</td>\n",
       "      <td>Witch Hunter ROBIN (ウイッチハンターロビン)</td>\n",
       "      <td>WHR</td>\n",
       "      <td>https://cdn.myanimelist.net/images/anime/10/19...</td>\n",
       "      <td>https://cdn.myanimelist.net/images/anime/10/19...</td>\n",
       "      <td>https://cdn.myanimelist.net/images/anime/10/19...</td>\n",
       "      <td>...</td>\n",
       "      <td>01:25</td>\n",
       "      <td>Asia/Tokyo</td>\n",
       "      <td>Wednesdays at 01:25 (JST)</td>\n",
       "      <td>Bandai Visual, Dentsu, Victor Entertainment</td>\n",
       "      <td>Funimation, Bandai Entertainment</td>\n",
       "      <td>Sunrise</td>\n",
       "      <td>Action, Drama, Mystery, Supernatural</td>\n",
       "      <td>NaN</td>\n",
       "      <td>Detective</td>\n",
       "      <td>NaN</td>\n",
       "    </tr>\n",
       "    <tr>\n",
       "      <th>4</th>\n",
       "      <td>8</td>\n",
       "      <td>https://myanimelist.net/anime/8/Bouken_Ou_Beet</td>\n",
       "      <td>True</td>\n",
       "      <td>Bouken Ou Beet</td>\n",
       "      <td>Beet the Vandel Buster</td>\n",
       "      <td>冒険王ビィト</td>\n",
       "      <td>Adventure King Beet</td>\n",
       "      <td>https://cdn.myanimelist.net/images/anime/7/215...</td>\n",
       "      <td>https://cdn.myanimelist.net/images/anime/7/215...</td>\n",
       "      <td>https://cdn.myanimelist.net/images/anime/7/215...</td>\n",
       "      <td>...</td>\n",
       "      <td>18:30</td>\n",
       "      <td>Asia/Tokyo</td>\n",
       "      <td>Thursdays at 18:30 (JST)</td>\n",
       "      <td>TV Tokyo, Dentsu</td>\n",
       "      <td>Illumitoon Entertainment</td>\n",
       "      <td>Toei Animation</td>\n",
       "      <td>Action, Adventure, Fantasy</td>\n",
       "      <td>NaN</td>\n",
       "      <td>NaN</td>\n",
       "      <td>Shounen</td>\n",
       "    </tr>\n",
       "  </tbody>\n",
       "</table>\n",
       "<p>5 rows × 58 columns</p>\n",
       "</div>"
      ],
      "text/plain": [
       "   mal_id                                                url  approved  \\\n",
       "0       1       https://myanimelist.net/anime/1/Cowboy_Bebop      True   \n",
       "1       5  https://myanimelist.net/anime/5/Cowboy_Bebop__...      True   \n",
       "2       6             https://myanimelist.net/anime/6/Trigun      True   \n",
       "3       7  https://myanimelist.net/anime/7/Witch_Hunter_R...      True   \n",
       "4       8     https://myanimelist.net/anime/8/Bouken_Ou_Beet      True   \n",
       "\n",
       "                             title            title_english  \\\n",
       "0                     Cowboy Bebop             Cowboy Bebop   \n",
       "1  Cowboy Bebop: Tengoku no Tobira  Cowboy Bebop: The Movie   \n",
       "2                           Trigun                   Trigun   \n",
       "3               Witch Hunter Robin       Witch Hunter Robin   \n",
       "4                   Bouken Ou Beet   Beet the Vandel Buster   \n",
       "\n",
       "                     title_japanese                           title_synonyms  \\\n",
       "0                         カウボーイビバップ                                      NaN   \n",
       "1                    カウボーイビバップ 天国の扉  Cowboy Bebop: Knockin' on Heaven's Door   \n",
       "2                             トライガン                                      NaN   \n",
       "3  Witch Hunter ROBIN (ウイッチハンターロビン)                                      WHR   \n",
       "4                            冒険王ビィト                      Adventure King Beet   \n",
       "\n",
       "                                       image_jpg_url  \\\n",
       "0  https://cdn.myanimelist.net/images/anime/4/196...   \n",
       "1  https://cdn.myanimelist.net/images/anime/1439/...   \n",
       "2  https://cdn.myanimelist.net/images/anime/1130/...   \n",
       "3  https://cdn.myanimelist.net/images/anime/10/19...   \n",
       "4  https://cdn.myanimelist.net/images/anime/7/215...   \n",
       "\n",
       "                                 image_jpg_small_url  \\\n",
       "0  https://cdn.myanimelist.net/images/anime/4/196...   \n",
       "1  https://cdn.myanimelist.net/images/anime/1439/...   \n",
       "2  https://cdn.myanimelist.net/images/anime/1130/...   \n",
       "3  https://cdn.myanimelist.net/images/anime/10/19...   \n",
       "4  https://cdn.myanimelist.net/images/anime/7/215...   \n",
       "\n",
       "                                 image_jpg_large_url  ... broadcast_time  \\\n",
       "0  https://cdn.myanimelist.net/images/anime/4/196...  ...          01:00   \n",
       "1  https://cdn.myanimelist.net/images/anime/1439/...  ...            NaN   \n",
       "2  https://cdn.myanimelist.net/images/anime/1130/...  ...          01:15   \n",
       "3  https://cdn.myanimelist.net/images/anime/10/19...  ...          01:25   \n",
       "4  https://cdn.myanimelist.net/images/anime/7/215...  ...          18:30   \n",
       "\n",
       "  broadcast_timezone           broadcast_string  \\\n",
       "0         Asia/Tokyo   Saturdays at 01:00 (JST)   \n",
       "1                NaN                        NaN   \n",
       "2         Asia/Tokyo   Thursdays at 01:15 (JST)   \n",
       "3         Asia/Tokyo  Wednesdays at 01:25 (JST)   \n",
       "4         Asia/Tokyo   Thursdays at 18:30 (JST)   \n",
       "\n",
       "                                           producers  \\\n",
       "0  Bandai Visual, Victor Entertainment, Audio Pla...   \n",
       "1                             Sunrise, Bandai Visual   \n",
       "2                               Victor Entertainment   \n",
       "3        Bandai Visual, Dentsu, Victor Entertainment   \n",
       "4                                   TV Tokyo, Dentsu   \n",
       "\n",
       "                                 licensors         studios  \\\n",
       "0                               Funimation         Sunrise   \n",
       "1  Sony Pictures Entertainment, Funimation           Bones   \n",
       "2                               Funimation        Madhouse   \n",
       "3         Funimation, Bandai Entertainment         Sunrise   \n",
       "4                 Illumitoon Entertainment  Toei Animation   \n",
       "\n",
       "                                 genres explicit_genres             themes  \\\n",
       "0         Action, Award Winning, Sci-Fi             NaN  Adult Cast, Space   \n",
       "1                        Action, Sci-Fi             NaN  Adult Cast, Space   \n",
       "2             Action, Adventure, Sci-Fi             NaN         Adult Cast   \n",
       "3  Action, Drama, Mystery, Supernatural             NaN          Detective   \n",
       "4            Action, Adventure, Fantasy             NaN                NaN   \n",
       "\n",
       "  demographics  \n",
       "0          NaN  \n",
       "1          NaN  \n",
       "2      Shounen  \n",
       "3          NaN  \n",
       "4      Shounen  \n",
       "\n",
       "[5 rows x 58 columns]"
      ]
     },
     "execution_count": 6,
     "metadata": {},
     "output_type": "execute_result"
    }
   ],
   "source": [
    "data.head(5)"
   ]
  },
  {
   "cell_type": "code",
   "execution_count": 7,
   "id": "1497d236-816c-4d88-a432-a8c050a73acb",
   "metadata": {},
   "outputs": [
    {
     "name": "stdout",
     "output_type": "stream",
     "text": [
      "data shape: (28858, 58)\n",
      "<class 'pandas.core.frame.DataFrame'>\n",
      "RangeIndex: 28858 entries, 0 to 28857\n",
      "Data columns (total 58 columns):\n",
      " #   Column                     Non-Null Count  Dtype  \n",
      "---  ------                     --------------  -----  \n",
      " 0   mal_id                     28858 non-null  int64  \n",
      " 1   url                        28858 non-null  object \n",
      " 2   approved                   28858 non-null  bool   \n",
      " 3   title                      28858 non-null  object \n",
      " 4   title_english              12435 non-null  object \n",
      " 5   title_japanese             28737 non-null  object \n",
      " 6   title_synonyms             14266 non-null  object \n",
      " 7   image_jpg_url              28858 non-null  object \n",
      " 8   image_jpg_small_url        28858 non-null  object \n",
      " 9   image_jpg_large_url        28858 non-null  object \n",
      " 10  image_webp_url             28858 non-null  object \n",
      " 11  image_webp_small_url       28858 non-null  object \n",
      " 12  image_webp_large_url       28858 non-null  object \n",
      " 13  trailer_youtube_id         5553 non-null   object \n",
      " 14  trailer_url                5553 non-null   object \n",
      " 15  trailer_embed_url          5554 non-null   object \n",
      " 16  trailer_image_url          5553 non-null   object \n",
      " 17  trailer_small_image_url    5553 non-null   object \n",
      " 18  trailer_medium_image_url   5553 non-null   object \n",
      " 19  trailer_large_image_url    5553 non-null   object \n",
      " 20  trailer_maximum_image_url  5553 non-null   object \n",
      " 21  type                       28777 non-null  object \n",
      " 22  source                     28858 non-null  object \n",
      " 23  episodes                   28110 non-null  float64\n",
      " 24  status                     28858 non-null  object \n",
      " 25  airing                     28858 non-null  bool   \n",
      " 26  duration                   28858 non-null  object \n",
      " 27  rating                     28219 non-null  object \n",
      " 28  score                      18735 non-null  float64\n",
      " 29  scored_by                  18735 non-null  float64\n",
      " 30  rank                       21942 non-null  float64\n",
      " 31  popularity                 28858 non-null  int64  \n",
      " 32  members                    28858 non-null  int64  \n",
      " 33  favorites                  28858 non-null  int64  \n",
      " 34  synopsis                   23750 non-null  object \n",
      " 35  background                 2901 non-null   object \n",
      " 36  aired_from                 27924 non-null  object \n",
      " 37  aired_to                   11115 non-null  object \n",
      " 38  aired_prop_from_day        27924 non-null  float64\n",
      " 39  aired_prop_from_month      27924 non-null  float64\n",
      " 40  aired_prop_from_year       27924 non-null  float64\n",
      " 41  aired_prop_to_day          11115 non-null  float64\n",
      " 42  aired_prop_to_month        11115 non-null  float64\n",
      " 43  aired_prop_to_year         11115 non-null  float64\n",
      " 44  aired_string               28858 non-null  object \n",
      " 45  season                     6220 non-null   object \n",
      " 46  year                       6220 non-null   float64\n",
      " 47  broadcast_day              4162 non-null   object \n",
      " 48  broadcast_time             4162 non-null   object \n",
      " 49  broadcast_timezone         4162 non-null   object \n",
      " 50  broadcast_string           8399 non-null   object \n",
      " 51  producers                  13622 non-null  object \n",
      " 52  licensors                  5137 non-null   object \n",
      " 53  studios                    17187 non-null  object \n",
      " 54  genres                     22914 non-null  object \n",
      " 55  explicit_genres            0 non-null      float64\n",
      " 56  themes                     17020 non-null  object \n",
      " 57  demographics               10765 non-null  object \n",
      "dtypes: bool(2), float64(12), int64(4), object(40)\n",
      "memory usage: 12.4+ MB\n"
     ]
    }
   ],
   "source": [
    "print(f\"data shape: {data.shape}\")\n",
    "data.info()"
   ]
  },
  {
   "cell_type": "code",
   "execution_count": null,
   "id": "024d572a-9671-402d-975a-64b507799de7",
   "metadata": {},
   "outputs": [],
   "source": []
  },
  {
   "cell_type": "code",
   "execution_count": 8,
   "id": "0fb3b667-55ea-44fb-83a1-013ca5af37bd",
   "metadata": {},
   "outputs": [
    {
     "data": {
      "text/plain": [
       "approved\n",
       "True        28858\n",
       "Name: count, dtype: int64"
      ]
     },
     "execution_count": 8,
     "metadata": {},
     "output_type": "execute_result"
    }
   ],
   "source": [
    "data[[\"approved\"]].value_counts()"
   ]
  },
  {
   "cell_type": "markdown",
   "id": "8090f84a-3b72-4a6c-97a1-b56c17dc33f1",
   "metadata": {},
   "source": [
    "## Type"
   ]
  },
  {
   "cell_type": "code",
   "execution_count": 9,
   "id": "ca60b032-9d50-43fe-8f8a-b43bd6ba137e",
   "metadata": {},
   "outputs": [
    {
     "data": {
      "image/png": "[encoded data removed]",
      "text/plain": [
       "<Figure size 1200x800 with 1 Axes>"
      ]
     },
     "metadata": {},
     "output_type": "display_data"
    },
    {
     "data": {
      "text/html": [
       "<div>\n",
       "<style scoped>\n",
       "    .dataframe tbody tr th:only-of-type {\n",
       "        vertical-align: middle;\n",
       "    }\n",
       "\n",
       "    .dataframe tbody tr th {\n",
       "        vertical-align: top;\n",
       "    }\n",
       "\n",
       "    .dataframe thead th {\n",
       "        text-align: right;\n",
       "    }\n",
       "</style>\n",
       "<table border=\"1\" class=\"dataframe\">\n",
       "  <thead>\n",
       "    <tr style=\"text-align: right;\">\n",
       "      <th></th>\n",
       "      <th>category</th>\n",
       "      <th>count</th>\n",
       "    </tr>\n",
       "  </thead>\n",
       "  <tbody>\n",
       "    <tr>\n",
       "      <th>0</th>\n",
       "      <td>TV</td>\n",
       "      <td>8399</td>\n",
       "    </tr>\n",
       "    <tr>\n",
       "      <th>1</th>\n",
       "      <td>Movie</td>\n",
       "      <td>4896</td>\n",
       "    </tr>\n",
       "    <tr>\n",
       "      <th>2</th>\n",
       "      <td>OVA</td>\n",
       "      <td>4186</td>\n",
       "    </tr>\n",
       "    <tr>\n",
       "      <th>3</th>\n",
       "      <td>ONA</td>\n",
       "      <td>4101</td>\n",
       "    </tr>\n",
       "    <tr>\n",
       "      <th>4</th>\n",
       "      <td>Music</td>\n",
       "      <td>3939</td>\n",
       "    </tr>\n",
       "    <tr>\n",
       "      <th>5</th>\n",
       "      <td>Special</td>\n",
       "      <td>1769</td>\n",
       "    </tr>\n",
       "    <tr>\n",
       "      <th>6</th>\n",
       "      <td>TV Special</td>\n",
       "      <td>756</td>\n",
       "    </tr>\n",
       "    <tr>\n",
       "      <th>7</th>\n",
       "      <td>CM</td>\n",
       "      <td>468</td>\n",
       "    </tr>\n",
       "    <tr>\n",
       "      <th>8</th>\n",
       "      <td>PV</td>\n",
       "      <td>263</td>\n",
       "    </tr>\n",
       "  </tbody>\n",
       "</table>\n",
       "</div>"
      ],
      "text/plain": [
       "     category  count\n",
       "0          TV   8399\n",
       "1       Movie   4896\n",
       "2         OVA   4186\n",
       "3         ONA   4101\n",
       "4       Music   3939\n",
       "5     Special   1769\n",
       "6  TV Special    756\n",
       "7          CM    468\n",
       "8          PV    263"
      ]
     },
     "execution_count": 9,
     "metadata": {},
     "output_type": "execute_result"
    }
   ],
   "source": [
    "build_barplot(data, \"type\")"
   ]
  },
  {
   "cell_type": "markdown",
   "id": "fcd6cb03-6903-42b4-a6ff-0f0e20e4984f",
   "metadata": {},
   "source": [
    "## Genres"
   ]
  },
  {
   "cell_type": "code",
   "execution_count": 13,
   "id": "9282de74-9190-4ccb-9412-6c71ed6edfa4",
   "metadata": {},
   "outputs": [
    {
     "name": "stdout",
     "output_type": "stream",
     "text": [
      "https://cdn.myanimelist.net/images/anime/4/19644l.jpg\n",
      "https://cdn.myanimelist.net/images/anime/1439/93480l.jpg\n",
      "https://cdn.myanimelist.net/images/anime/1130/120002l.jpg\n",
      "https://cdn.myanimelist.net/images/anime/10/19969l.jpg\n",
      "https://cdn.myanimelist.net/images/anime/7/21569l.jpg\n",
      "https://cdn.myanimelist.net/images/anime/1079/133529l.jpg\n",
      "https://cdn.myanimelist.net/images/anime/1301/133577l.jpg\n",
      "https://cdn.myanimelist.net/images/anime/12/49655l.jpg\n",
      "https://cdn.myanimelist.net/images/anime/9/10521l.jpg\n",
      "https://cdn.myanimelist.net/images/anime/10/18793l.jpg\n",
      "https://cdn.myanimelist.net/images/anime/1141/142503l.jpg\n"
     ]
    }
   ],
   "source": [
    "show_column_values(\"image_jpg_large_url\", 10)"
   ]
  },
  {
   "cell_type": "code",
   "execution_count": 11,
   "id": "3f027403-64d2-45fe-8364-fa6372d1c737",
   "metadata": {},
   "outputs": [],
   "source": [
    "genres_data = data[[\"genres\"]].copy()"
   ]
  },
  {
   "cell_type": "code",
   "execution_count": 50,
   "id": "d28fe190-8330-4b44-bb93-dbacb46d9e6d",
   "metadata": {},
   "outputs": [
    {
     "data": {
      "text/html": [
       "<div>\n",
       "<style scoped>\n",
       "    .dataframe tbody tr th:only-of-type {\n",
       "        vertical-align: middle;\n",
       "    }\n",
       "\n",
       "    .dataframe tbody tr th {\n",
       "        vertical-align: top;\n",
       "    }\n",
       "\n",
       "    .dataframe thead th {\n",
       "        text-align: right;\n",
       "    }\n",
       "</style>\n",
       "<table border=\"1\" class=\"dataframe\">\n",
       "  <thead>\n",
       "    <tr style=\"text-align: right;\">\n",
       "      <th></th>\n",
       "      <th>genres</th>\n",
       "    </tr>\n",
       "  </thead>\n",
       "  <tbody>\n",
       "    <tr>\n",
       "      <th>0</th>\n",
       "      <td>Action, Award Winning, Sci-Fi</td>\n",
       "    </tr>\n",
       "    <tr>\n",
       "      <th>1</th>\n",
       "      <td>Action, Sci-Fi</td>\n",
       "    </tr>\n",
       "    <tr>\n",
       "      <th>2</th>\n",
       "      <td>Action, Adventure, Sci-Fi</td>\n",
       "    </tr>\n",
       "    <tr>\n",
       "      <th>3</th>\n",
       "      <td>Action, Drama, Mystery, Supernatural</td>\n",
       "    </tr>\n",
       "    <tr>\n",
       "      <th>4</th>\n",
       "      <td>Action, Adventure, Fantasy</td>\n",
       "    </tr>\n",
       "  </tbody>\n",
       "</table>\n",
       "</div>"
      ],
      "text/plain": [
       "                                 genres\n",
       "0         Action, Award Winning, Sci-Fi\n",
       "1                        Action, Sci-Fi\n",
       "2             Action, Adventure, Sci-Fi\n",
       "3  Action, Drama, Mystery, Supernatural\n",
       "4            Action, Adventure, Fantasy"
      ]
     },
     "execution_count": 50,
     "metadata": {},
     "output_type": "execute_result"
    }
   ],
   "source": [
    "genres_data.head()"
   ]
  },
  {
   "cell_type": "code",
   "execution_count": 43,
   "id": "679ffc5c-082c-491a-b9da-60a96540f06f",
   "metadata": {},
   "outputs": [],
   "source": [
    "genres_data = genres_data.dropna()"
   ]
  },
  {
   "cell_type": "code",
   "execution_count": 45,
   "id": "e2ccae56-e026-4db6-9780-aaf28af64301",
   "metadata": {},
   "outputs": [
    {
     "data": {
      "text/plain": [
       "genres    0\n",
       "dtype: int64"
      ]
     },
     "execution_count": 45,
     "metadata": {},
     "output_type": "execute_result"
    }
   ],
   "source": [
    "genres_data.isna().sum()"
   ]
  },
  {
   "cell_type": "code",
   "execution_count": 47,
   "id": "f3383fee-e9ec-43cf-94af-e833e56e670f",
   "metadata": {},
   "outputs": [
    {
     "data": {
      "text/plain": [
       "(22914, 1)"
      ]
     },
     "execution_count": 47,
     "metadata": {},
     "output_type": "execute_result"
    }
   ],
   "source": [
    "genres_data.shape"
   ]
  },
  {
   "cell_type": "code",
   "execution_count": 54,
   "id": "114daf61-9dbe-4136-9aec-8a8689259b4c",
   "metadata": {},
   "outputs": [],
   "source": [
    "list_genres = []"
   ]
  },
  {
   "cell_type": "code",
   "execution_count": 55,
   "id": "b0fb43f6-d8f8-4d9a-b6f3-4185deb2d296",
   "metadata": {},
   "outputs": [],
   "source": [
    "for genres in genres_data[\"genres\"]:\n",
    "    for genre in genres.split(\", \"):\n",
    "        list_genres.append(genre.strip())"
   ]
  },
  {
   "cell_type": "code",
   "execution_count": 79,
   "id": "be9ed4a7-e411-4233-95c7-913dfcb0f3ee",
   "metadata": {},
   "outputs": [],
   "source": [
    "count_of_genres = dict(Counter(list_genres))"
   ]
  },
  {
   "cell_type": "code",
   "execution_count": 81,
   "id": "89000e2a-2511-45ed-a7a9-96f4027423ee",
   "metadata": {},
   "outputs": [],
   "source": [
    "df_genres = pd.DataFrame.from_dict(count_of_genres, orient='index', columns=['count'])"
   ]
  },
  {
   "cell_type": "code",
   "execution_count": 136,
   "id": "6267caff-1f74-4841-89b3-d7375a868cbc",
   "metadata": {},
   "outputs": [],
   "source": [
    "df_genres = df_genres.sort_values(\"count\", ascending=False)"
   ]
  },
  {
   "cell_type": "code",
   "execution_count": 137,
   "id": "9d098833-8063-4519-b819-58389b2873fd",
   "metadata": {},
   "outputs": [
    {
     "data": {
      "image/png": "[encoded data removed]",
      "text/plain": [
       "<Figure size 1200x800 with 1 Axes>"
      ]
     },
     "metadata": {},
     "output_type": "display_data"
    },
    {
     "data": {
      "text/html": [
       "<div>\n",
       "<style scoped>\n",
       "    .dataframe tbody tr th:only-of-type {\n",
       "        vertical-align: middle;\n",
       "    }\n",
       "\n",
       "    .dataframe tbody tr th {\n",
       "        vertical-align: top;\n",
       "    }\n",
       "\n",
       "    .dataframe thead th {\n",
       "        text-align: right;\n",
       "    }\n",
       "</style>\n",
       "<table border=\"1\" class=\"dataframe\">\n",
       "  <thead>\n",
       "    <tr style=\"text-align: right;\">\n",
       "      <th></th>\n",
       "      <th>category</th>\n",
       "      <th>count</th>\n",
       "    </tr>\n",
       "  </thead>\n",
       "  <tbody>\n",
       "    <tr>\n",
       "      <th>0</th>\n",
       "      <td>Comedy</td>\n",
       "      <td>7794</td>\n",
       "    </tr>\n",
       "    <tr>\n",
       "      <th>1</th>\n",
       "      <td>Fantasy</td>\n",
       "      <td>6043</td>\n",
       "    </tr>\n",
       "    <tr>\n",
       "      <th>2</th>\n",
       "      <td>Action</td>\n",
       "      <td>5657</td>\n",
       "    </tr>\n",
       "    <tr>\n",
       "      <th>3</th>\n",
       "      <td>Adventure</td>\n",
       "      <td>4443</td>\n",
       "    </tr>\n",
       "    <tr>\n",
       "      <th>4</th>\n",
       "      <td>Sci-Fi</td>\n",
       "      <td>3462</td>\n",
       "    </tr>\n",
       "    <tr>\n",
       "      <th>5</th>\n",
       "      <td>Drama</td>\n",
       "      <td>3102</td>\n",
       "    </tr>\n",
       "    <tr>\n",
       "      <th>6</th>\n",
       "      <td>Romance</td>\n",
       "      <td>2204</td>\n",
       "    </tr>\n",
       "    <tr>\n",
       "      <th>7</th>\n",
       "      <td>Hentai</td>\n",
       "      <td>1590</td>\n",
       "    </tr>\n",
       "    <tr>\n",
       "      <th>8</th>\n",
       "      <td>Slice of Life</td>\n",
       "      <td>1569</td>\n",
       "    </tr>\n",
       "    <tr>\n",
       "      <th>9</th>\n",
       "      <td>Supernatural</td>\n",
       "      <td>1563</td>\n",
       "    </tr>\n",
       "    <tr>\n",
       "      <th>10</th>\n",
       "      <td>Avant Garde</td>\n",
       "      <td>1049</td>\n",
       "    </tr>\n",
       "    <tr>\n",
       "      <th>11</th>\n",
       "      <td>Mystery</td>\n",
       "      <td>1004</td>\n",
       "    </tr>\n",
       "    <tr>\n",
       "      <th>12</th>\n",
       "      <td>Sports</td>\n",
       "      <td>822</td>\n",
       "    </tr>\n",
       "    <tr>\n",
       "      <th>13</th>\n",
       "      <td>Ecchi</td>\n",
       "      <td>820</td>\n",
       "    </tr>\n",
       "    <tr>\n",
       "      <th>14</th>\n",
       "      <td>Horror</td>\n",
       "      <td>585</td>\n",
       "    </tr>\n",
       "    <tr>\n",
       "      <th>15</th>\n",
       "      <td>Suspense</td>\n",
       "      <td>461</td>\n",
       "    </tr>\n",
       "    <tr>\n",
       "      <th>16</th>\n",
       "      <td>Award Winning</td>\n",
       "      <td>258</td>\n",
       "    </tr>\n",
       "    <tr>\n",
       "      <th>17</th>\n",
       "      <td>Gourmet</td>\n",
       "      <td>221</td>\n",
       "    </tr>\n",
       "    <tr>\n",
       "      <th>18</th>\n",
       "      <td>Boys Love</td>\n",
       "      <td>194</td>\n",
       "    </tr>\n",
       "    <tr>\n",
       "      <th>19</th>\n",
       "      <td>Girls Love</td>\n",
       "      <td>124</td>\n",
       "    </tr>\n",
       "    <tr>\n",
       "      <th>20</th>\n",
       "      <td>Erotica</td>\n",
       "      <td>80</td>\n",
       "    </tr>\n",
       "  </tbody>\n",
       "</table>\n",
       "</div>"
      ],
      "text/plain": [
       "         category  count\n",
       "0          Comedy   7794\n",
       "1         Fantasy   6043\n",
       "2          Action   5657\n",
       "3       Adventure   4443\n",
       "4          Sci-Fi   3462\n",
       "5           Drama   3102\n",
       "6         Romance   2204\n",
       "7          Hentai   1590\n",
       "8   Slice of Life   1569\n",
       "9    Supernatural   1563\n",
       "10    Avant Garde   1049\n",
       "11        Mystery   1004\n",
       "12         Sports    822\n",
       "13          Ecchi    820\n",
       "14         Horror    585\n",
       "15       Suspense    461\n",
       "16  Award Winning    258\n",
       "17        Gourmet    221\n",
       "18      Boys Love    194\n",
       "19     Girls Love    124\n",
       "20        Erotica     80"
      ]
     },
     "execution_count": 137,
     "metadata": {},
     "output_type": "execute_result"
    }
   ],
   "source": [
    "build_barplot(df_genres)"
   ]
  },
  {
   "cell_type": "markdown",
   "id": "1c29f611-4a5f-4334-be0d-b2679c931bf5",
   "metadata": {},
   "source": [
    "## Demographics"
   ]
  },
  {
   "cell_type": "code",
   "execution_count": 139,
   "id": "0278e76c-095a-40a0-b107-c3a163c181b8",
   "metadata": {},
   "outputs": [
    {
     "name": "stdout",
     "output_type": "stream",
     "text": [
      "nan\n",
      "nan\n",
      "Shounen\n",
      "nan\n",
      "Shounen\n",
      "Shounen\n"
     ]
    }
   ],
   "source": [
    "show_column_values(\"demographics\", 5)"
   ]
  },
  {
   "cell_type": "code",
   "execution_count": 140,
   "id": "02bf0d91-ff67-4907-8975-88d167d81f97",
   "metadata": {},
   "outputs": [],
   "source": [
    "demographics_data = data[[\"demographics\"]].copy()"
   ]
  },
  {
   "cell_type": "code",
   "execution_count": 179,
   "id": "c47cf1bf-055b-4696-8c7a-daa383b2a63f",
   "metadata": {},
   "outputs": [
    {
     "data": {
      "text/plain": [
       "array(['Shounen', 'Josei', 'Seinen', 'Kids', 'Shoujo', 'Kids, Shounen',\n",
       "       'Kids, Shoujo', 'Seinen, Shounen'], dtype=object)"
      ]
     },
     "execution_count": 179,
     "metadata": {},
     "output_type": "execute_result"
    }
   ],
   "source": [
    "demographics_data[\"demographics\"].unique()"
   ]
  },
  {
   "cell_type": "code",
   "execution_count": 142,
   "id": "50311778-20bc-4d98-8281-6f3b73381118",
   "metadata": {},
   "outputs": [],
   "source": [
    "demographics_data = demographics_data.dropna()"
   ]
  },
  {
   "cell_type": "code",
   "execution_count": 144,
   "id": "03a0431d-2462-4064-9a24-56b05beb94c3",
   "metadata": {},
   "outputs": [
    {
     "data": {
      "text/plain": [
       "(10765, 1)"
      ]
     },
     "execution_count": 144,
     "metadata": {},
     "output_type": "execute_result"
    }
   ],
   "source": [
    "demographics_data.shape"
   ]
  },
  {
   "cell_type": "code",
   "execution_count": 146,
   "id": "0244f44d-3dc5-4d31-ac3e-b3e6fb06d949",
   "metadata": {},
   "outputs": [
    {
     "data": {
      "text/plain": [
       "demographics    0\n",
       "dtype: int64"
      ]
     },
     "execution_count": 146,
     "metadata": {},
     "output_type": "execute_result"
    }
   ],
   "source": [
    "demographics_data.isna().sum()"
   ]
  },
  {
   "cell_type": "code",
   "execution_count": 181,
   "id": "7ab24901-e360-4da0-bfd6-38ee6a906c35",
   "metadata": {},
   "outputs": [],
   "source": [
    "list_dmgr = []\n",
    "for dmgs in demographics_data[\"demographics\"]:\n",
    "    for dmg in dmgs.split(\", \"):\n",
    "        list_dmgr.append(dmg.strip())"
   ]
  },
  {
   "cell_type": "code",
   "execution_count": 182,
   "id": "743f1cba-f71a-4eaa-81d9-cf273dcd566b",
   "metadata": {},
   "outputs": [],
   "source": [
    "count_dmgr = dict(Counter(list_dmgr))"
   ]
  },
  {
   "cell_type": "code",
   "execution_count": 183,
   "id": "3c7f96b0-d8e1-458b-9bdf-1403b74fd8df",
   "metadata": {},
   "outputs": [
    {
     "data": {
      "text/plain": [
       "{'Shounen': 2149, 'Josei': 160, 'Seinen': 1100, 'Kids': 6891, 'Shoujo': 522}"
      ]
     },
     "execution_count": 183,
     "metadata": {},
     "output_type": "execute_result"
    }
   ],
   "source": [
    "count_dmgr"
   ]
  },
  {
   "cell_type": "code",
   "execution_count": 184,
   "id": "1ed7c8bf-50ad-4b7e-b1d3-2a06589384da",
   "metadata": {},
   "outputs": [],
   "source": [
    "df_dmgr = pd.DataFrame.from_dict(count_dmgr, orient='index', columns=['count'])"
   ]
  },
  {
   "cell_type": "code",
   "execution_count": 185,
   "id": "dc7b2c57-def8-4fa6-8f35-7d4b19f150cd",
   "metadata": {},
   "outputs": [],
   "source": [
    "df_dmgr = df_dmgr.sort_values(\"count\", ascending=False)"
   ]
  },
  {
   "cell_type": "code",
   "execution_count": 186,
   "id": "87c3ed9a-60fe-4360-8724-8b85189caef8",
   "metadata": {},
   "outputs": [
    {
     "data": {
      "image/png": "[encoded data removed]",
      "text/plain": [
       "<Figure size 1200x800 with 1 Axes>"
      ]
     },
     "metadata": {},
     "output_type": "display_data"
    },
    {
     "data": {
      "text/html": [
       "<div>\n",
       "<style scoped>\n",
       "    .dataframe tbody tr th:only-of-type {\n",
       "        vertical-align: middle;\n",
       "    }\n",
       "\n",
       "    .dataframe tbody tr th {\n",
       "        vertical-align: top;\n",
       "    }\n",
       "\n",
       "    .dataframe thead th {\n",
       "        text-align: right;\n",
       "    }\n",
       "</style>\n",
       "<table border=\"1\" class=\"dataframe\">\n",
       "  <thead>\n",
       "    <tr style=\"text-align: right;\">\n",
       "      <th></th>\n",
       "      <th>category</th>\n",
       "      <th>count</th>\n",
       "    </tr>\n",
       "  </thead>\n",
       "  <tbody>\n",
       "    <tr>\n",
       "      <th>0</th>\n",
       "      <td>Kids</td>\n",
       "      <td>6891</td>\n",
       "    </tr>\n",
       "    <tr>\n",
       "      <th>1</th>\n",
       "      <td>Shounen</td>\n",
       "      <td>2149</td>\n",
       "    </tr>\n",
       "    <tr>\n",
       "      <th>2</th>\n",
       "      <td>Seinen</td>\n",
       "      <td>1100</td>\n",
       "    </tr>\n",
       "    <tr>\n",
       "      <th>3</th>\n",
       "      <td>Shoujo</td>\n",
       "      <td>522</td>\n",
       "    </tr>\n",
       "    <tr>\n",
       "      <th>4</th>\n",
       "      <td>Josei</td>\n",
       "      <td>160</td>\n",
       "    </tr>\n",
       "  </tbody>\n",
       "</table>\n",
       "</div>"
      ],
      "text/plain": [
       "  category  count\n",
       "0     Kids   6891\n",
       "1  Shounen   2149\n",
       "2   Seinen   1100\n",
       "3   Shoujo    522\n",
       "4    Josei    160"
      ]
     },
     "execution_count": 186,
     "metadata": {},
     "output_type": "execute_result"
    }
   ],
   "source": [
    "build_barplot(df_dmgr)"
   ]
  },
  {
   "cell_type": "markdown",
   "id": "b842c141-1d10-4e35-b754-787a1859af92",
   "metadata": {},
   "source": [
    "## Themes"
   ]
  },
  {
   "cell_type": "code",
   "execution_count": 187,
   "id": "36e2b8f3-298b-4fe1-8ddf-521b92709112",
   "metadata": {},
   "outputs": [
    {
     "name": "stdout",
     "output_type": "stream",
     "text": [
      "Adult Cast, Space\n",
      "Adult Cast, Space\n",
      "Adult Cast\n",
      "Detective\n",
      "nan\n",
      "Team Sports\n"
     ]
    }
   ],
   "source": [
    "show_column_values(\"themes\", 5)"
   ]
  },
  {
   "cell_type": "code",
   "execution_count": 188,
   "id": "021a253b-bb20-47c9-ae3d-779dfd263a80",
   "metadata": {},
   "outputs": [],
   "source": [
    "df_themes = data[[\"themes\"]].copy()"
   ]
  },
  {
   "cell_type": "code",
   "execution_count": 190,
   "id": "27628f8d-e033-4eb7-996e-2c50dc368185",
   "metadata": {},
   "outputs": [],
   "source": [
    "df_themes = df_themes[[\"themes\"]].dropna()"
   ]
  },
  {
   "cell_type": "code",
   "execution_count": 196,
   "id": "c5b530a9-815f-419a-a339-77bf27b397f6",
   "metadata": {},
   "outputs": [],
   "source": [
    "list_themes = []\n",
    "for themes in df_themes[\"themes\"]:\n",
    "    for theme in themes.split(\", \"):\n",
    "        list_themes.append(theme.strip())"
   ]
  },
  {
   "cell_type": "code",
   "execution_count": 197,
   "id": "f52c10d8-850b-459f-9750-ea84665aaf88",
   "metadata": {},
   "outputs": [],
   "source": [
    "count_themes = dict(Counter(list_themes))"
   ]
  },
  {
   "cell_type": "code",
   "execution_count": 199,
   "id": "23165f2c-83e2-4afb-9fe3-80237933f394",
   "metadata": {},
   "outputs": [],
   "source": [
    "df_thm = pd.DataFrame.from_dict(count_themes, orient='index', columns=['count'])"
   ]
  },
  {
   "cell_type": "code",
   "execution_count": 206,
   "id": "caedb70f-cba7-4690-96c2-8b23ec46f3e0",
   "metadata": {},
   "outputs": [],
   "source": [
    "df_thm = df_thm.sort_values(\"count\")"
   ]
  },
  {
   "cell_type": "code",
   "execution_count": 209,
   "id": "3d8b0a70-37bc-4c17-ab0d-998bef3b9145",
   "metadata": {},
   "outputs": [
    {
     "data": {
      "application/vnd.plotly.v1+json": {
       "config": {
        "plotlyServerURL": "https://plot.ly"
       },
       "data": [
        {
         "alignmentgroup": "True",
         "hovertemplate": "Count=%{x}<br>Category=%{y}<extra></extra>",
         "legendgroup": "",
         "marker": {
          "color": "#636efa",
          "pattern": {
           "shape": ""
          }
         },
         "name": "",
         "offsetgroup": "",
         "orientation": "h",
         "showlegend": false,
         "textposition": "auto",
         "type": "bar",
         "x": [
          28,
          32,
          47,
          50,
          57,
          57,
          62,
          76,
          77,
          77,
          79,
          93,
          96,
          108,
          109,
          116,
          125,
          137,
          160,
          162,
          168,
          180,
          184,
          188,
          209,
          230,
          252,
          259,
          269,
          270,
          277,
          313,
          325,
          327,
          336,
          358,
          365,
          453,
          454,
          484,
          654,
          671,
          713,
          716,
          723,
          744,
          804,
          1217,
          1315,
          1744,
          2245,
          5054
         ],
         "xaxis": "x",
         "y": [
          "Villainess",
          "Magical Sex Shift",
          "Love Status Quo",
          "Showbiz",
          "High Stakes Game",
          "Medical",
          "Crossdressing",
          "Delinquents",
          "Survival",
          "Childcare",
          "Reverse Harem",
          "Visual Arts",
          "Combat Sports",
          "Otaku Culture",
          "Organized Crime",
          "Love Polygon",
          "Performing Arts",
          "Pets",
          "Time Travel",
          "Reincarnation",
          "Video Game",
          "Vampire",
          "Idols (Male)",
          "Iyashikei",
          "Urban Fantasy",
          "Workplace",
          "Samurai",
          "CGDCT",
          "Racing",
          "Gore",
          "Gag Humor",
          "Detective",
          "Educational",
          "Team Sports",
          "Strategy Game",
          "Mahou Shoujo",
          "Idols (Female)",
          "Psychological",
          "Isekai",
          "Harem",
          "Mythology",
          "Space",
          "Martial Arts",
          "Adult Cast",
          "Super Power",
          "Military",
          "Parody",
          "Anthropomorphic",
          "Mecha",
          "Historical",
          "School",
          "Music"
         ],
         "yaxis": "y"
        }
       ],
       "layout": {
        "autosize": true,
        "barmode": "relative",
        "legend": {
         "tracegroupgap": 0
        },
        "margin": {
         "b": 50,
         "l": 50,
         "r": 50,
         "t": 50
        },
        "template": {
         "data": {
          "bar": [
           {
            "error_x": {
             "color": "#2a3f5f"
            },
            "error_y": {
             "color": "#2a3f5f"
            },
            "marker": {
             "line": {
              "color": "#E5ECF6",
              "width": 0.5
             },
             "pattern": {
              "fillmode": "overlay",
              "size": 10,
              "solidity": 0.2
             }
            },
            "type": "bar"
           }
          ],
          "barpolar": [
           {
            "marker": {
             "line": {
              "color": "#E5ECF6",
              "width": 0.5
             },
             "pattern": {
              "fillmode": "overlay",
              "size": 10,
              "solidity": 0.2
             }
            },
            "type": "barpolar"
           }
          ],
          "carpet": [
           {
            "aaxis": {
             "endlinecolor": "#2a3f5f",
             "gridcolor": "white",
             "linecolor": "white",
             "minorgridcolor": "white",
             "startlinecolor": "#2a3f5f"
            },
            "baxis": {
             "endlinecolor": "#2a3f5f",
             "gridcolor": "white",
             "linecolor": "white",
             "minorgridcolor": "white",
             "startlinecolor": "#2a3f5f"
            },
            "type": "carpet"
           }
          ],
          "choropleth": [
           {
            "colorbar": {
             "outlinewidth": 0,
             "ticks": ""
            },
            "type": "choropleth"
           }
          ],
          "contour": [
           {
            "colorbar": {
             "outlinewidth": 0,
             "ticks": ""
            },
            "colorscale": [
             [
              0,
              "#0d0887"
             ],
             [
              0.1111111111111111,
              "#46039f"
             ],
             [
              0.2222222222222222,
              "#7201a8"
             ],
             [
              0.3333333333333333,
              "#9c179e"
             ],
             [
              0.4444444444444444,
              "#bd3786"
             ],
             [
              0.5555555555555556,
              "#d8576b"
             ],
             [
              0.6666666666666666,
              "#ed7953"
             ],
             [
              0.7777777777777778,
              "#fb9f3a"
             ],
             [
              0.8888888888888888,
              "#fdca26"
             ],
             [
              1,
              "#f0f921"
             ]
            ],
            "type": "contour"
           }
          ],
          "contourcarpet": [
           {
            "colorbar": {
             "outlinewidth": 0,
             "ticks": ""
            },
            "type": "contourcarpet"
           }
          ],
          "heatmap": [
           {
            "colorbar": {
             "outlinewidth": 0,
             "ticks": ""
            },
            "colorscale": [
             [
              0,
              "#0d0887"
             ],
             [
              0.1111111111111111,
              "#46039f"
             ],
             [
              0.2222222222222222,
              "#7201a8"
             ],
             [
              0.3333333333333333,
              "#9c179e"
             ],
             [
              0.4444444444444444,
              "#bd3786"
             ],
             [
              0.5555555555555556,
              "#d8576b"
             ],
             [
              0.6666666666666666,
              "#ed7953"
             ],
             [
              0.7777777777777778,
              "#fb9f3a"
             ],
             [
              0.8888888888888888,
              "#fdca26"
             ],
             [
              1,
              "#f0f921"
             ]
            ],
            "type": "heatmap"
           }
          ],
          "heatmapgl": [
           {
            "colorbar": {
             "outlinewidth": 0,
             "ticks": ""
            },
            "colorscale": [
             [
              0,
              "#0d0887"
             ],
             [
              0.1111111111111111,
              "#46039f"
             ],
             [
              0.2222222222222222,
              "#7201a8"
             ],
             [
              0.3333333333333333,
              "#9c179e"
             ],
             [
              0.4444444444444444,
              "#bd3786"
             ],
             [
              0.5555555555555556,
              "#d8576b"
             ],
             [
              0.6666666666666666,
              "#ed7953"
             ],
             [
              0.7777777777777778,
              "#fb9f3a"
             ],
             [
              0.8888888888888888,
              "#fdca26"
             ],
             [
              1,
              "#f0f921"
             ]
            ],
            "type": "heatmapgl"
           }
          ],
          "histogram": [
           {
            "marker": {
             "pattern": {
              "fillmode": "overlay",
              "size": 10,
              "solidity": 0.2
             }
            },
            "type": "histogram"
           }
          ],
          "histogram2d": [
           {
            "colorbar": {
             "outlinewidth": 0,
             "ticks": ""
            },
            "colorscale": [
             [
              0,
              "#0d0887"
             ],
             [
              0.1111111111111111,
              "#46039f"
             ],
             [
              0.2222222222222222,
              "#7201a8"
             ],
             [
              0.3333333333333333,
              "#9c179e"
             ],
             [
              0.4444444444444444,
              "#bd3786"
             ],
             [
              0.5555555555555556,
              "#d8576b"
             ],
             [
              0.6666666666666666,
              "#ed7953"
             ],
             [
              0.7777777777777778,
              "#fb9f3a"
             ],
             [
              0.8888888888888888,
              "#fdca26"
             ],
             [
              1,
              "#f0f921"
             ]
            ],
            "type": "histogram2d"
           }
          ],
          "histogram2dcontour": [
           {
            "colorbar": {
             "outlinewidth": 0,
             "ticks": ""
            },
            "colorscale": [
             [
              0,
              "#0d0887"
             ],
             [
              0.1111111111111111,
              "#46039f"
             ],
             [
              0.2222222222222222,
              "#7201a8"
             ],
             [
              0.3333333333333333,
              "#9c179e"
             ],
             [
              0.4444444444444444,
              "#bd3786"
             ],
             [
              0.5555555555555556,
              "#d8576b"
             ],
             [
              0.6666666666666666,
              "#ed7953"
             ],
             [
              0.7777777777777778,
              "#fb9f3a"
             ],
             [
              0.8888888888888888,
              "#fdca26"
             ],
             [
              1,
              "#f0f921"
             ]
            ],
            "type": "histogram2dcontour"
           }
          ],
          "mesh3d": [
           {
            "colorbar": {
             "outlinewidth": 0,
             "ticks": ""
            },
            "type": "mesh3d"
           }
          ],
          "parcoords": [
           {
            "line": {
             "colorbar": {
              "outlinewidth": 0,
              "ticks": ""
             }
            },
            "type": "parcoords"
           }
          ],
          "pie": [
           {
            "automargin": true,
            "type": "pie"
           }
          ],
          "scatter": [
           {
            "fillpattern": {
             "fillmode": "overlay",
             "size": 10,
             "solidity": 0.2
            },
            "type": "scatter"
           }
          ],
          "scatter3d": [
           {
            "line": {
             "colorbar": {
              "outlinewidth": 0,
              "ticks": ""
             }
            },
            "marker": {
             "colorbar": {
              "outlinewidth": 0,
              "ticks": ""
             }
            },
            "type": "scatter3d"
           }
          ],
          "scattercarpet": [
           {
            "marker": {
             "colorbar": {
              "outlinewidth": 0,
              "ticks": ""
             }
            },
            "type": "scattercarpet"
           }
          ],
          "scattergeo": [
           {
            "marker": {
             "colorbar": {
              "outlinewidth": 0,
              "ticks": ""
             }
            },
            "type": "scattergeo"
           }
          ],
          "scattergl": [
           {
            "marker": {
             "colorbar": {
              "outlinewidth": 0,
              "ticks": ""
             }
            },
            "type": "scattergl"
           }
          ],
          "scattermapbox": [
           {
            "marker": {
             "colorbar": {
              "outlinewidth": 0,
              "ticks": ""
             }
            },
            "type": "scattermapbox"
           }
          ],
          "scatterpolar": [
           {
            "marker": {
             "colorbar": {
              "outlinewidth": 0,
              "ticks": ""
             }
            },
            "type": "scatterpolar"
           }
          ],
          "scatterpolargl": [
           {
            "marker": {
             "colorbar": {
              "outlinewidth": 0,
              "ticks": ""
             }
            },
            "type": "scatterpolargl"
           }
          ],
          "scatterternary": [
           {
            "marker": {
             "colorbar": {
              "outlinewidth": 0,
              "ticks": ""
             }
            },
            "type": "scatterternary"
           }
          ],
          "surface": [
           {
            "colorbar": {
             "outlinewidth": 0,
             "ticks": ""
            },
            "colorscale": [
             [
              0,
              "#0d0887"
             ],
             [
              0.1111111111111111,
              "#46039f"
             ],
             [
              0.2222222222222222,
              "#7201a8"
             ],
             [
              0.3333333333333333,
              "#9c179e"
             ],
             [
              0.4444444444444444,
              "#bd3786"
             ],
             [
              0.5555555555555556,
              "#d8576b"
             ],
             [
              0.6666666666666666,
              "#ed7953"
             ],
             [
              0.7777777777777778,
              "#fb9f3a"
             ],
             [
              0.8888888888888888,
              "#fdca26"
             ],
             [
              1,
              "#f0f921"
             ]
            ],
            "type": "surface"
           }
          ],
          "table": [
           {
            "cells": {
             "fill": {
              "color": "#EBF0F8"
             },
             "line": {
              "color": "white"
             }
            },
            "header": {
             "fill": {
              "color": "#C8D4E3"
             },
             "line": {
              "color": "white"
             }
            },
            "type": "table"
           }
          ]
         },
         "layout": {
          "annotationdefaults": {
           "arrowcolor": "#2a3f5f",
           "arrowhead": 0,
           "arrowwidth": 1
          },
          "autotypenumbers": "strict",
          "coloraxis": {
           "colorbar": {
            "outlinewidth": 0,
            "ticks": ""
           }
          },
          "colorscale": {
           "diverging": [
            [
             0,
             "#8e0152"
            ],
            [
             0.1,
             "#c51b7d"
            ],
            [
             0.2,
             "#de77ae"
            ],
            [
             0.3,
             "#f1b6da"
            ],
            [
             0.4,
             "#fde0ef"
            ],
            [
             0.5,
             "#f7f7f7"
            ],
            [
             0.6,
             "#e6f5d0"
            ],
            [
             0.7,
             "#b8e186"
            ],
            [
             0.8,
             "#7fbc41"
            ],
            [
             0.9,
             "#4d9221"
            ],
            [
             1,
             "#276419"
            ]
           ],
           "sequential": [
            [
             0,
             "#0d0887"
            ],
            [
             0.1111111111111111,
             "#46039f"
            ],
            [
             0.2222222222222222,
             "#7201a8"
            ],
            [
             0.3333333333333333,
             "#9c179e"
            ],
            [
             0.4444444444444444,
             "#bd3786"
            ],
            [
             0.5555555555555556,
             "#d8576b"
            ],
            [
             0.6666666666666666,
             "#ed7953"
            ],
            [
             0.7777777777777778,
             "#fb9f3a"
            ],
            [
             0.8888888888888888,
             "#fdca26"
            ],
            [
             1,
             "#f0f921"
            ]
           ],
           "sequentialminus": [
            [
             0,
             "#0d0887"
            ],
            [
             0.1111111111111111,
             "#46039f"
            ],
            [
             0.2222222222222222,
             "#7201a8"
            ],
            [
             0.3333333333333333,
             "#9c179e"
            ],
            [
             0.4444444444444444,
             "#bd3786"
            ],
            [
             0.5555555555555556,
             "#d8576b"
            ],
            [
             0.6666666666666666,
             "#ed7953"
            ],
            [
             0.7777777777777778,
             "#fb9f3a"
            ],
            [
             0.8888888888888888,
             "#fdca26"
            ],
            [
             1,
             "#f0f921"
            ]
           ]
          },
          "colorway": [
           "#636efa",
           "#EF553B",
           "#00cc96",
           "#ab63fa",
           "#FFA15A",
           "#19d3f3",
           "#FF6692",
           "#B6E880",
           "#FF97FF",
           "#FECB52"
          ],
          "font": {
           "color": "#2a3f5f"
          },
          "geo": {
           "bgcolor": "white",
           "lakecolor": "white",
           "landcolor": "#E5ECF6",
           "showlakes": true,
           "showland": true,
           "subunitcolor": "white"
          },
          "hoverlabel": {
           "align": "left"
          },
          "hovermode": "closest",
          "mapbox": {
           "style": "light"
          },
          "paper_bgcolor": "white",
          "plot_bgcolor": "#E5ECF6",
          "polar": {
           "angularaxis": {
            "gridcolor": "white",
            "linecolor": "white",
            "ticks": ""
           },
           "bgcolor": "#E5ECF6",
           "radialaxis": {
            "gridcolor": "white",
            "linecolor": "white",
            "ticks": ""
           }
          },
          "scene": {
           "xaxis": {
            "backgroundcolor": "#E5ECF6",
            "gridcolor": "white",
            "gridwidth": 2,
            "linecolor": "white",
            "showbackground": true,
            "ticks": "",
            "zerolinecolor": "white"
           },
           "yaxis": {
            "backgroundcolor": "#E5ECF6",
            "gridcolor": "white",
            "gridwidth": 2,
            "linecolor": "white",
            "showbackground": true,
            "ticks": "",
            "zerolinecolor": "white"
           },
           "zaxis": {
            "backgroundcolor": "#E5ECF6",
            "gridcolor": "white",
            "gridwidth": 2,
            "linecolor": "white",
            "showbackground": true,
            "ticks": "",
            "zerolinecolor": "white"
           }
          },
          "shapedefaults": {
           "line": {
            "color": "#2a3f5f"
           }
          },
          "ternary": {
           "aaxis": {
            "gridcolor": "white",
            "linecolor": "white",
            "ticks": ""
           },
           "baxis": {
            "gridcolor": "white",
            "linecolor": "white",
            "ticks": ""
           },
           "bgcolor": "#E5ECF6",
           "caxis": {
            "gridcolor": "white",
            "linecolor": "white",
            "ticks": ""
           }
          },
          "title": {
           "x": 0.05
          },
          "xaxis": {
           "automargin": true,
           "gridcolor": "white",
           "linecolor": "white",
           "ticks": "",
           "title": {
            "standoff": 15
           },
           "zerolinecolor": "white",
           "zerolinewidth": 2
          },
          "yaxis": {
           "automargin": true,
           "gridcolor": "white",
           "linecolor": "white",
           "ticks": "",
           "title": {
            "standoff": 15
           },
           "zerolinecolor": "white",
           "zerolinewidth": 2
          }
         }
        },
        "xaxis": {
         "anchor": "y",
         "autorange": true,
         "domain": [
          0,
          1
         ],
         "range": [
          0,
          5320
         ],
         "title": {
          "text": "Count"
         },
         "type": "linear"
        },
        "yaxis": {
         "anchor": "x",
         "autorange": true,
         "domain": [
          0,
          1
         ],
         "range": [
          -0.5,
          51.5
         ],
         "title": {
          "text": "Category"
         },
         "type": "category"
        }
       }
      },
      "image/png": "[encoded data removed]",
      "text/html": [
       "<div>                            <div id=\"0406ec0d-f1f6-4347-9d6e-46c0520eaafc\" class=\"plotly-graph-div\" style=\"height:1500px; width:100%;\"></div>            <script type=\"text/javascript\">                require([\"plotly\"], function(Plotly) {                    window.PLOTLYENV=window.PLOTLYENV || {};                                    if (document.getElementById(\"0406ec0d-f1f6-4347-9d6e-46c0520eaafc\")) {                    Plotly.newPlot(                        \"0406ec0d-f1f6-4347-9d6e-46c0520eaafc\",                        [{\"alignmentgroup\":\"True\",\"hovertemplate\":\"Count=%{x}\\u003cbr\\u003eCategory=%{y}\\u003cextra\\u003e\\u003c\\u002fextra\\u003e\",\"legendgroup\":\"\",\"marker\":{\"color\":\"#636efa\",\"pattern\":{\"shape\":\"\"}},\"name\":\"\",\"offsetgroup\":\"\",\"orientation\":\"h\",\"showlegend\":false,\"textposition\":\"auto\",\"x\":[28,32,47,50,57,57,62,76,77,77,79,93,96,108,109,116,125,137,160,162,168,180,184,188,209,230,252,259,269,270,277,313,325,327,336,358,365,453,454,484,654,671,713,716,723,744,804,1217,1315,1744,2245,5054],\"xaxis\":\"x\",\"y\":[\"Villainess\",\"Magical Sex Shift\",\"Love Status Quo\",\"Showbiz\",\"High Stakes Game\",\"Medical\",\"Crossdressing\",\"Delinquents\",\"Survival\",\"Childcare\",\"Reverse Harem\",\"Visual Arts\",\"Combat Sports\",\"Otaku Culture\",\"Organized Crime\",\"Love Polygon\",\"Performing Arts\",\"Pets\",\"Time Travel\",\"Reincarnation\",\"Video Game\",\"Vampire\",\"Idols (Male)\",\"Iyashikei\",\"Urban Fantasy\",\"Workplace\",\"Samurai\",\"CGDCT\",\"Racing\",\"Gore\",\"Gag Humor\",\"Detective\",\"Educational\",\"Team Sports\",\"Strategy Game\",\"Mahou Shoujo\",\"Idols (Female)\",\"Psychological\",\"Isekai\",\"Harem\",\"Mythology\",\"Space\",\"Martial Arts\",\"Adult Cast\",\"Super Power\",\"Military\",\"Parody\",\"Anthropomorphic\",\"Mecha\",\"Historical\",\"School\",\"Music\"],\"yaxis\":\"y\",\"type\":\"bar\"}],                        {\"template\":{\"data\":{\"histogram2dcontour\":[{\"type\":\"histogram2dcontour\",\"colorbar\":{\"outlinewidth\":0,\"ticks\":\"\"},\"colorscale\":[[0.0,\"#0d0887\"],[0.1111111111111111,\"#46039f\"],[0.2222222222222222,\"#7201a8\"],[0.3333333333333333,\"#9c179e\"],[0.4444444444444444,\"#bd3786\"],[0.5555555555555556,\"#d8576b\"],[0.6666666666666666,\"#ed7953\"],[0.7777777777777778,\"#fb9f3a\"],[0.8888888888888888,\"#fdca26\"],[1.0,\"#f0f921\"]]}],\"choropleth\":[{\"type\":\"choropleth\",\"colorbar\":{\"outlinewidth\":0,\"ticks\":\"\"}}],\"histogram2d\":[{\"type\":\"histogram2d\",\"colorbar\":{\"outlinewidth\":0,\"ticks\":\"\"},\"colorscale\":[[0.0,\"#0d0887\"],[0.1111111111111111,\"#46039f\"],[0.2222222222222222,\"#7201a8\"],[0.3333333333333333,\"#9c179e\"],[0.4444444444444444,\"#bd3786\"],[0.5555555555555556,\"#d8576b\"],[0.6666666666666666,\"#ed7953\"],[0.7777777777777778,\"#fb9f3a\"],[0.8888888888888888,\"#fdca26\"],[1.0,\"#f0f921\"]]}],\"heatmap\":[{\"type\":\"heatmap\",\"colorbar\":{\"outlinewidth\":0,\"ticks\":\"\"},\"colorscale\":[[0.0,\"#0d0887\"],[0.1111111111111111,\"#46039f\"],[0.2222222222222222,\"#7201a8\"],[0.3333333333333333,\"#9c179e\"],[0.4444444444444444,\"#bd3786\"],[0.5555555555555556,\"#d8576b\"],[0.6666666666666666,\"#ed7953\"],[0.7777777777777778,\"#fb9f3a\"],[0.8888888888888888,\"#fdca26\"],[1.0,\"#f0f921\"]]}],\"heatmapgl\":[{\"type\":\"heatmapgl\",\"colorbar\":{\"outlinewidth\":0,\"ticks\":\"\"},\"colorscale\":[[0.0,\"#0d0887\"],[0.1111111111111111,\"#46039f\"],[0.2222222222222222,\"#7201a8\"],[0.3333333333333333,\"#9c179e\"],[0.4444444444444444,\"#bd3786\"],[0.5555555555555556,\"#d8576b\"],[0.6666666666666666,\"#ed7953\"],[0.7777777777777778,\"#fb9f3a\"],[0.8888888888888888,\"#fdca26\"],[1.0,\"#f0f921\"]]}],\"contourcarpet\":[{\"type\":\"contourcarpet\",\"colorbar\":{\"outlinewidth\":0,\"ticks\":\"\"}}],\"contour\":[{\"type\":\"contour\",\"colorbar\":{\"outlinewidth\":0,\"ticks\":\"\"},\"colorscale\":[[0.0,\"#0d0887\"],[0.1111111111111111,\"#46039f\"],[0.2222222222222222,\"#7201a8\"],[0.3333333333333333,\"#9c179e\"],[0.4444444444444444,\"#bd3786\"],[0.5555555555555556,\"#d8576b\"],[0.6666666666666666,\"#ed7953\"],[0.7777777777777778,\"#fb9f3a\"],[0.8888888888888888,\"#fdca26\"],[1.0,\"#f0f921\"]]}],\"surface\":[{\"type\":\"surface\",\"colorbar\":{\"outlinewidth\":0,\"ticks\":\"\"},\"colorscale\":[[0.0,\"#0d0887\"],[0.1111111111111111,\"#46039f\"],[0.2222222222222222,\"#7201a8\"],[0.3333333333333333,\"#9c179e\"],[0.4444444444444444,\"#bd3786\"],[0.5555555555555556,\"#d8576b\"],[0.6666666666666666,\"#ed7953\"],[0.7777777777777778,\"#fb9f3a\"],[0.8888888888888888,\"#fdca26\"],[1.0,\"#f0f921\"]]}],\"mesh3d\":[{\"type\":\"mesh3d\",\"colorbar\":{\"outlinewidth\":0,\"ticks\":\"\"}}],\"scatter\":[{\"fillpattern\":{\"fillmode\":\"overlay\",\"size\":10,\"solidity\":0.2},\"type\":\"scatter\"}],\"parcoords\":[{\"type\":\"parcoords\",\"line\":{\"colorbar\":{\"outlinewidth\":0,\"ticks\":\"\"}}}],\"scatterpolargl\":[{\"type\":\"scatterpolargl\",\"marker\":{\"colorbar\":{\"outlinewidth\":0,\"ticks\":\"\"}}}],\"bar\":[{\"error_x\":{\"color\":\"#2a3f5f\"},\"error_y\":{\"color\":\"#2a3f5f\"},\"marker\":{\"line\":{\"color\":\"#E5ECF6\",\"width\":0.5},\"pattern\":{\"fillmode\":\"overlay\",\"size\":10,\"solidity\":0.2}},\"type\":\"bar\"}],\"scattergeo\":[{\"type\":\"scattergeo\",\"marker\":{\"colorbar\":{\"outlinewidth\":0,\"ticks\":\"\"}}}],\"scatterpolar\":[{\"type\":\"scatterpolar\",\"marker\":{\"colorbar\":{\"outlinewidth\":0,\"ticks\":\"\"}}}],\"histogram\":[{\"marker\":{\"pattern\":{\"fillmode\":\"overlay\",\"size\":10,\"solidity\":0.2}},\"type\":\"histogram\"}],\"scattergl\":[{\"type\":\"scattergl\",\"marker\":{\"colorbar\":{\"outlinewidth\":0,\"ticks\":\"\"}}}],\"scatter3d\":[{\"type\":\"scatter3d\",\"line\":{\"colorbar\":{\"outlinewidth\":0,\"ticks\":\"\"}},\"marker\":{\"colorbar\":{\"outlinewidth\":0,\"ticks\":\"\"}}}],\"scattermapbox\":[{\"type\":\"scattermapbox\",\"marker\":{\"colorbar\":{\"outlinewidth\":0,\"ticks\":\"\"}}}],\"scatterternary\":[{\"type\":\"scatterternary\",\"marker\":{\"colorbar\":{\"outlinewidth\":0,\"ticks\":\"\"}}}],\"scattercarpet\":[{\"type\":\"scattercarpet\",\"marker\":{\"colorbar\":{\"outlinewidth\":0,\"ticks\":\"\"}}}],\"carpet\":[{\"aaxis\":{\"endlinecolor\":\"#2a3f5f\",\"gridcolor\":\"white\",\"linecolor\":\"white\",\"minorgridcolor\":\"white\",\"startlinecolor\":\"#2a3f5f\"},\"baxis\":{\"endlinecolor\":\"#2a3f5f\",\"gridcolor\":\"white\",\"linecolor\":\"white\",\"minorgridcolor\":\"white\",\"startlinecolor\":\"#2a3f5f\"},\"type\":\"carpet\"}],\"table\":[{\"cells\":{\"fill\":{\"color\":\"#EBF0F8\"},\"line\":{\"color\":\"white\"}},\"header\":{\"fill\":{\"color\":\"#C8D4E3\"},\"line\":{\"color\":\"white\"}},\"type\":\"table\"}],\"barpolar\":[{\"marker\":{\"line\":{\"color\":\"#E5ECF6\",\"width\":0.5},\"pattern\":{\"fillmode\":\"overlay\",\"size\":10,\"solidity\":0.2}},\"type\":\"barpolar\"}],\"pie\":[{\"automargin\":true,\"type\":\"pie\"}]},\"layout\":{\"autotypenumbers\":\"strict\",\"colorway\":[\"#636efa\",\"#EF553B\",\"#00cc96\",\"#ab63fa\",\"#FFA15A\",\"#19d3f3\",\"#FF6692\",\"#B6E880\",\"#FF97FF\",\"#FECB52\"],\"font\":{\"color\":\"#2a3f5f\"},\"hovermode\":\"closest\",\"hoverlabel\":{\"align\":\"left\"},\"paper_bgcolor\":\"white\",\"plot_bgcolor\":\"#E5ECF6\",\"polar\":{\"bgcolor\":\"#E5ECF6\",\"angularaxis\":{\"gridcolor\":\"white\",\"linecolor\":\"white\",\"ticks\":\"\"},\"radialaxis\":{\"gridcolor\":\"white\",\"linecolor\":\"white\",\"ticks\":\"\"}},\"ternary\":{\"bgcolor\":\"#E5ECF6\",\"aaxis\":{\"gridcolor\":\"white\",\"linecolor\":\"white\",\"ticks\":\"\"},\"baxis\":{\"gridcolor\":\"white\",\"linecolor\":\"white\",\"ticks\":\"\"},\"caxis\":{\"gridcolor\":\"white\",\"linecolor\":\"white\",\"ticks\":\"\"}},\"coloraxis\":{\"colorbar\":{\"outlinewidth\":0,\"ticks\":\"\"}},\"colorscale\":{\"sequential\":[[0.0,\"#0d0887\"],[0.1111111111111111,\"#46039f\"],[0.2222222222222222,\"#7201a8\"],[0.3333333333333333,\"#9c179e\"],[0.4444444444444444,\"#bd3786\"],[0.5555555555555556,\"#d8576b\"],[0.6666666666666666,\"#ed7953\"],[0.7777777777777778,\"#fb9f3a\"],[0.8888888888888888,\"#fdca26\"],[1.0,\"#f0f921\"]],\"sequentialminus\":[[0.0,\"#0d0887\"],[0.1111111111111111,\"#46039f\"],[0.2222222222222222,\"#7201a8\"],[0.3333333333333333,\"#9c179e\"],[0.4444444444444444,\"#bd3786\"],[0.5555555555555556,\"#d8576b\"],[0.6666666666666666,\"#ed7953\"],[0.7777777777777778,\"#fb9f3a\"],[0.8888888888888888,\"#fdca26\"],[1.0,\"#f0f921\"]],\"diverging\":[[0,\"#8e0152\"],[0.1,\"#c51b7d\"],[0.2,\"#de77ae\"],[0.3,\"#f1b6da\"],[0.4,\"#fde0ef\"],[0.5,\"#f7f7f7\"],[0.6,\"#e6f5d0\"],[0.7,\"#b8e186\"],[0.8,\"#7fbc41\"],[0.9,\"#4d9221\"],[1,\"#276419\"]]},\"xaxis\":{\"gridcolor\":\"white\",\"linecolor\":\"white\",\"ticks\":\"\",\"title\":{\"standoff\":15},\"zerolinecolor\":\"white\",\"automargin\":true,\"zerolinewidth\":2},\"yaxis\":{\"gridcolor\":\"white\",\"linecolor\":\"white\",\"ticks\":\"\",\"title\":{\"standoff\":15},\"zerolinecolor\":\"white\",\"automargin\":true,\"zerolinewidth\":2},\"scene\":{\"xaxis\":{\"backgroundcolor\":\"#E5ECF6\",\"gridcolor\":\"white\",\"linecolor\":\"white\",\"showbackground\":true,\"ticks\":\"\",\"zerolinecolor\":\"white\",\"gridwidth\":2},\"yaxis\":{\"backgroundcolor\":\"#E5ECF6\",\"gridcolor\":\"white\",\"linecolor\":\"white\",\"showbackground\":true,\"ticks\":\"\",\"zerolinecolor\":\"white\",\"gridwidth\":2},\"zaxis\":{\"backgroundcolor\":\"#E5ECF6\",\"gridcolor\":\"white\",\"linecolor\":\"white\",\"showbackground\":true,\"ticks\":\"\",\"zerolinecolor\":\"white\",\"gridwidth\":2}},\"shapedefaults\":{\"line\":{\"color\":\"#2a3f5f\"}},\"annotationdefaults\":{\"arrowcolor\":\"#2a3f5f\",\"arrowhead\":0,\"arrowwidth\":1},\"geo\":{\"bgcolor\":\"white\",\"landcolor\":\"#E5ECF6\",\"subunitcolor\":\"white\",\"showland\":true,\"showlakes\":true,\"lakecolor\":\"white\"},\"title\":{\"x\":0.05},\"mapbox\":{\"style\":\"light\"}}},\"xaxis\":{\"anchor\":\"y\",\"domain\":[0.0,1.0],\"title\":{\"text\":\"Count\"}},\"yaxis\":{\"anchor\":\"x\",\"domain\":[0.0,1.0],\"title\":{\"text\":\"Category\"}},\"legend\":{\"tracegroupgap\":0},\"margin\":{\"t\":50,\"l\":50,\"r\":50,\"b\":50},\"barmode\":\"relative\",\"height\":1500},                        {\"responsive\": true}                    ).then(function(){\n",
       "                            \n",
       "var gd = document.getElementById('0406ec0d-f1f6-4347-9d6e-46c0520eaafc');\n",
       "var x = new MutationObserver(function (mutations, observer) {{\n",
       "        var display = window.getComputedStyle(gd).display;\n",
       "        if (!display || display === 'none') {{\n",
       "            console.log([gd, 'removed!']);\n",
       "            Plotly.purge(gd);\n",
       "            observer.disconnect();\n",
       "        }}\n",
       "}});\n",
       "\n",
       "// Listen for the removal of the full notebook cells\n",
       "var notebookContainer = gd.closest('#notebook-container');\n",
       "if (notebookContainer) {{\n",
       "    x.observe(notebookContainer, {childList: true});\n",
       "}}\n",
       "\n",
       "// Listen for the clearing of the current output cell\n",
       "var outputEl = gd.closest('.output');\n",
       "if (outputEl) {{\n",
       "    x.observe(outputEl, {childList: true});\n",
       "}}\n",
       "\n",
       "                        })                };                });            </script>        </div>"
      ]
     },
     "metadata": {},
     "output_type": "display_data"
    },
    {
     "name": "stdout",
     "output_type": "stream",
     "text": [
      "                   count\n",
      "Music               5054\n",
      "School              2245\n",
      "Historical          1744\n",
      "Mecha               1315\n",
      "Anthropomorphic     1217\n",
      "Parody               804\n",
      "Military             744\n",
      "Super Power          723\n",
      "Adult Cast           716\n",
      "Martial Arts         713\n",
      "Space                671\n",
      "Mythology            654\n",
      "Harem                484\n",
      "Isekai               454\n",
      "Psychological        453\n",
      "Idols (Female)       365\n",
      "Mahou Shoujo         358\n",
      "Strategy Game        336\n",
      "Team Sports          327\n",
      "Educational          325\n",
      "Detective            313\n",
      "Gag Humor            277\n",
      "Gore                 270\n",
      "Racing               269\n",
      "CGDCT                259\n",
      "Samurai              252\n",
      "Workplace            230\n",
      "Urban Fantasy        209\n",
      "Iyashikei            188\n",
      "Idols (Male)         184\n",
      "Vampire              180\n",
      "Video Game           168\n",
      "Reincarnation        162\n",
      "Time Travel          160\n",
      "Pets                 137\n",
      "Performing Arts      125\n",
      "Love Polygon         116\n",
      "Organized Crime      109\n",
      "Otaku Culture        108\n",
      "Combat Sports         96\n",
      "Visual Arts           93\n",
      "Reverse Harem         79\n",
      "Childcare             77\n",
      "Survival              77\n",
      "Delinquents           76\n",
      "Crossdressing         62\n",
      "Medical               57\n",
      "High Stakes Game      57\n",
      "Showbiz               50\n",
      "Love Status Quo       47\n",
      "Magical Sex Shift     32\n",
      "Villainess            28\n"
     ]
    }
   ],
   "source": [
    "import plotly.express as px\n",
    "\n",
    "fig = px.bar(\n",
    "    x=df_thm['count'], \n",
    "    y=df_thm.index, \n",
    "    orientation='h',\n",
    "    labels={'x': 'Count', 'y': 'Category'}\n",
    ")\n",
    "fig.update_layout(\n",
    "    height=1500,\n",
    "    margin=dict(l=50, r=50, t=50, b=50)\n",
    ")\n",
    "fig.show()\n",
    "\n",
    "print(df_thm.sort_values(\"count\", ascending=False))"
   ]
  },
  {
   "cell_type": "code",
   "execution_count": null,
   "id": "fc533b47-7754-468c-9eb8-3b28ba44d2dc",
   "metadata": {},
   "outputs": [],
   "source": []
  },
  {
   "cell_type": "code",
   "execution_count": null,
   "id": "f40b67da-33b7-48fb-b2d0-72e3df5b1c42",
   "metadata": {},
   "outputs": [],
   "source": []
  },
  {
   "cell_type": "code",
   "execution_count": null,
   "id": "05c4dc23-a72b-4beb-84d3-3c7eb4c36e8f",
   "metadata": {},
   "outputs": [],
   "source": []
  },
  {
   "cell_type": "code",
   "execution_count": 5,
   "id": "8ecfd0b0-2a27-4167-8962-7ed51cf6101f",
   "metadata": {},
   "outputs": [
    {
     "data": {
      "text/plain": [
       "['Cowboy Bebop',\n",
       " 'Cowboy Bebop: Tengoku no Tobira',\n",
       " 'Trigun',\n",
       " 'Witch Hunter Robin',\n",
       " 'Bouken Ou Beet',\n",
       " 'Eyeshield 21',\n",
       " 'Hachimitsu to Clover',\n",
       " 'Hungry Heart: Wild Striker',\n",
       " 'Initial D Fourth Stage',\n",
       " 'Monster',\n",
       " 'Naruto',\n",
       " 'One Piece',\n",
       " 'Tennis no Oujisama',\n",
       " 'Ring ni Kakero 1',\n",
       " 'School Rumble',\n",
       " 'Sunabouzu',\n",
       " 'Texhnolyze',\n",
       " 'Trinity Blood',\n",
       " 'Yakitate!! Japan',\n",
       " 'Zipang',\n",
       " 'Shinseiki Evangelion',\n",
       " 'Shinseiki Evangelion Movie: Shi to Shinsei',\n",
       " 'Shinseiki Evangelion Movie: Air/Magokoro wo, Kimi ni',\n",
       " 'Kenpuu Denki Berserk',\n",
       " 'Koukaku Kidoutai',\n",
       " 'Black Cat: Toozakaru Neko',\n",
       " 'Genmukan',\n",
       " 'Samurai Spirits: Haten Gouma no Shou',\n",
       " 'Kimera',\n",
       " 'Kara no Kyoukai Movie 1: Fukan Fuukei',\n",
       " 'Piano no Mori',\n",
       " 'D.C.II: Da Capo II',\n",
       " 'Shinreigari',\n",
       " 'Meitantei Conan OVA 07: Agasa kara no Chousenjou! Agasa vs Conan & Shounen Tanteidan',\n",
       " 'Juusenki L-Gaim',\n",
       " 'Juusenki L-Gaim I: Pentagona Window + Lady Gavlet',\n",
       " 'Juusenki L-Gaim II: Farewell My Lovely + Pentagona Dolls',\n",
       " 'Juusenki L-Gaim III: Full Metal Soldier',\n",
       " 'Kenkou Zenrakei Suiei-bu Umishou',\n",
       " 'Mushi-Uta',\n",
       " 'Sky Girls',\n",
       " 'Sayonara Zetsubou Sensei',\n",
       " 'Digimon Savers the Movie: Kyuukyoku Power! Burst Mode Hatsudou!!',\n",
       " 'Birth',\n",
       " 'Wangan Midnight',\n",
       " 'Kakyuusei (TV)',\n",
       " 'Kakyuusei',\n",
       " 'Panda Kopanda',\n",
       " 'Spoon Obasan',\n",
       " 'Mirai Shounen Conan 2: Taiga Daibouken',\n",
       " 'Halo Legends',\n",
       " 'Wansa-kun',\n",
       " 'Cyborg 009',\n",
       " 'Iron Man',\n",
       " 'Pokemon: Bokutachi Pichu Brothers - Party wa Oosawagi! no Maki',\n",
       " 'Usavich Specials',\n",
       " 'Deadman Wonderland',\n",
       " 'Hatsukoi Limited.: Gentei Shoujo',\n",
       " 'Umi Monogatari: Anata ga Ite Kureta Koto - Shinjiau Kokoro',\n",
       " 'Ookami to Koushinryou II: Holo no Short Anime',\n",
       " 'Sora no Manimani Specials',\n",
       " 'Time Bokan Series: Zenderman',\n",
       " 'Ontama!',\n",
       " 'Soukan Yuugi 2',\n",
       " 'Yokorenbo: Immoral Mother',\n",
       " 'Oni Chichi',\n",
       " 'Hakuouki',\n",
       " 'Pandora Hearts Omake',\n",
       " 'Stitch! Itazura Alien no Daibouken',\n",
       " 'Tamagotchi!',\n",
       " 'Battle Spirits: Shounen Gekiha Dan',\n",
       " 'Saikyou Bushouden: Sangoku Engi',\n",
       " 'Prima Donna Mai',\n",
       " 'Hellsing: Digest for Freaks',\n",
       " 'Mikan-Seijin',\n",
       " 'Chousoku Henkei Gyrozetter',\n",
       " 'Harem Time The Animation',\n",
       " 'Gogo no Kouchou: Junai Mellow yori',\n",
       " 'JK to Ero Giin Sensei',\n",
       " 'Kyou no Asuka Show',\n",
       " 'Shin Koihime†Musou: Otome Tairan OVA Omake',\n",
       " 'Yuki no Taiyou Pilot',\n",
       " 'Corpse Party: Tortured Souls - Bougyakusareta Tamashii no Jukyou',\n",
       " 'Ano Hi Mita Hana no Namae wo Bokutachi wa Mada Shiranai. Movie',\n",
       " 'Haitai Nanafa',\n",
       " 'Litchi DE Hikari Club',\n",
       " 'Love Live! School Idol Project',\n",
       " 'Initial D Fifth Stage',\n",
       " 'Aikatsu!',\n",
       " 'Kaiketsu Zorori Da-Da-Da-Daibouken!',\n",
       " 'Robin-kun to 100 nin no Otomodachi Season 2',\n",
       " 'Tabisuru Nuigurumi: Traveling Daru',\n",
       " 'Amnesia',\n",
       " 'Koihime†Musou OVA Omake',\n",
       " 'Shin Koihime†Musou OVA Omake',\n",
       " 'Tropical Kiss',\n",
       " 'Cuticle Tantei Inaba',\n",
       " 'Spy Penguin',\n",
       " 'Kami nomi zo Shiru Sekai: Tenri-hen',\n",
       " 'Senran Kagura',\n",
       " 'Ane Log: Moyako Neesan no Honpen wo Tobidashite Tomaranai Monologue',\n",
       " 'Glass no Kamen desu ga to Z',\n",
       " 'Tantei Kageki Milky Holmes TD',\n",
       " 'God Eater',\n",
       " 'Gekkan Shoujo Nozaki-kun Specials',\n",
       " 'Ginga Tetsudou 999: Niji no Michishirube',\n",
       " 'Crayon Shin-chan Movie 23: Ora no Hikkoshi Monogatari - Saboten Daisuugeki',\n",
       " 'Aldnoah.Zero Part 2',\n",
       " 'Baby Steps 2nd Season',\n",
       " 'Stratos 4 OVA: Stratos 4.1 - Dutch Roll',\n",
       " 'Sasurai-kun',\n",
       " 'Sore Ike! Anpanman: Rhythm de Teasobi - Anpanman to Fushigi na Parasol',\n",
       " 'Oshiri Kajiri Mushi (TV) 3rd Season',\n",
       " 'Heart Cocktail',\n",
       " 'Saki Biyori Animation',\n",
       " 'Kasumin',\n",
       " 'Kasumin 2nd Season',\n",
       " 'Binan Koukou Chikyuu Bouei-bu LOVE!',\n",
       " 'Battle Spirits: Burning Soul',\n",
       " 'Shounen Hollywood: Holly Stage for 50',\n",
       " 'Jokei Kazoku III: Himitsu - The Anime',\n",
       " 'Anisava',\n",
       " 'Plastic Memories',\n",
       " 'Sword Gai The Animation',\n",
       " 'Doamaiger D',\n",
       " 'Anitore! XX: Hitotsu Yane no Shita de',\n",
       " 'Boku no Yayoi-san 2',\n",
       " 'Tian Xin Ge Ge 2nd Season',\n",
       " 'Ma Shen',\n",
       " 'Hen Xi You',\n",
       " 'Shuang Yue Zhi Cheng',\n",
       " 'Wu Geng Ji',\n",
       " 'Feng Wei Ying Xiong',\n",
       " 'Shen Ming Zhi Zhou',\n",
       " 'Qui Shui Yi Yun',\n",
       " 'Yong Zhe Da Maoxian',\n",
       " 'Yong Zhe Da Maoxian 2nd Season',\n",
       " 'Ying Xiong Bie Nao',\n",
       " 'Oide yo! Shiritsu Yarimakuri Gakuen',\n",
       " 'Imouto to Sono Yuujin ga Ero Sugite Ore no Kokan ga Yabai',\n",
       " 'Kirin Hyoketsu: Atarashiku Ikou Animation Movie',\n",
       " 'Cheating Craft',\n",
       " 'Spy Penguin (ONA)',\n",
       " 'Spy Penguin (ONA): White Christmas',\n",
       " 'Soul Buster',\n",
       " 'Watashitachi, Luck Logic-bu! 2',\n",
       " 'Yodomi no Sawagi',\n",
       " 'Jakusansei Million Arthur Specials',\n",
       " 'Life!',\n",
       " 'Godzilla 1: Kaijuu Wakusei',\n",
       " 'Jo Uta',\n",
       " 'Yakusoku no Neverland 2nd Season',\n",
       " 'Kagaku Manga Survival',\n",
       " 'BanG Dream! Film Live',\n",
       " 'Hakata Mentai! Pirikarako-chan',\n",
       " 'Mahou no LumiTear',\n",
       " 'Bakugan: Battle Planet',\n",
       " 'You Should See Me in a Crown',\n",
       " 'Peter-kun no Koutsuu Anzen',\n",
       " 'Koutsuu Anzen Inu \"Signal\" no Oyako Nikki: Tobidashi Chuui',\n",
       " 'Dump to Mon-chan no Chiisana Bouken',\n",
       " 'Nan-chan no Koutsuu Anzen',\n",
       " 'Kaijuu Step Wandabada',\n",
       " 'Megohime',\n",
       " 'Sonyeonjangsu',\n",
       " 'Daifuku-kun@Kin Tele 2nd Season',\n",
       " 'Choujigen Game Neptune The Animation OVA',\n",
       " 'Tenioha! 2: Nee, Motto Ecchi na Koto Ippai Shiyo? The Animation',\n",
       " 'Shoujo☆Conto All Starlight',\n",
       " 'Setsugetsuka',\n",
       " 'Essential Free & Easy',\n",
       " 'Mob Psycho 100: Dai Ikkai Rei toka Soudansho Ian Ryokou - Kokoro Mitasu Iyashi no Tabi',\n",
       " 'One Punch Man 2nd Season Commemorative Special',\n",
       " 'Chokotto Anime Kemono Friends 3',\n",
       " 'Cinderella Girls Gekijou: Kayou Cinderella Theater 4th Season',\n",
       " 'Aisarenakutemo Kimi ga Iru',\n",
       " 'Fate/Grand Carnival',\n",
       " 'Milabo',\n",
       " 'PekoMiko Daisensou!!',\n",
       " 'Re:Hello World',\n",
       " 'Next Color Planet',\n",
       " 'Tenkyuu, Suisei wa Yoru wo Mataide',\n",
       " 'Shallys',\n",
       " 'Comet',\n",
       " 'My Name Is Elite☆',\n",
       " 'He Wei Dao x Hui Yeda Xiaojie Xiangyao Wo Gaobai',\n",
       " 'Say! Fanfare!',\n",
       " 'Mewkledreamy Mix!',\n",
       " 'Puraore! Pride of Orange',\n",
       " 'Selection Project',\n",
       " 'Kyuukyoku Shinka shita Full Dive RPG ga Genjitsu yori mo Kusoge Dattara',\n",
       " 'Guodong Baobei',\n",
       " 'Guodong San Jianke',\n",
       " 'Guo Bao Tegong',\n",
       " 'Guo Bao Tegong 2',\n",
       " 'Guo Bao Tegong 3',\n",
       " 'Ai-mai Chocolate',\n",
       " 'Guo Bao Tegong 4: Kai Zhi Hun',\n",
       " 'Guo Bao Tegong: Shuiguo Da Taowang',\n",
       " 'Bai Bian Ji Shou: Luo Luo Lixian Ji',\n",
       " 'Sekai Saikou no Ansatsusha, Isekai Kizoku ni Tensei suru',\n",
       " 'Zai Na Yaoyuan Di Difang',\n",
       " 'Maou Evelogia ni Mi wo Sasage yo',\n",
       " 'MILGЯAM',\n",
       " 'Ai Zai Xiyuan Qian 2nd Season',\n",
       " 'Ke Ai De Zhongguo',\n",
       " 'Fei Gou Moco',\n",
       " 'Fei Gou Moco: Chongwu Dian De Xiao Mimi',\n",
       " 'Sai Er Hao',\n",
       " 'Xuan Dou Zhan Lun',\n",
       " 'Xin Qi Bao Long Zhan Che: Xun Long Doushi',\n",
       " 'Xin Qi Bao Long Zhan Che 2: Ji Jia Zhan Long',\n",
       " 'Xin Qi Bao Long Zhan Che 3: Tuoluo Zhan Che',\n",
       " 'Xin Qi Bao Long Zhan Che: Bao Long Chuji',\n",
       " 'Pipilu Anquan Tegong Dui',\n",
       " 'Pao Pao Meirenyu 2nd Season',\n",
       " 'Xiongmao Boshi',\n",
       " 'Lanqiu Xuanfeng',\n",
       " 'Wo Shi Zhu Pi Deng',\n",
       " 'Mamono-tachi no Kunou',\n",
       " 'Haitun Bang Bang Hao',\n",
       " 'Haitun Bang Bang Hao 2nd Season',\n",
       " 'Ashuai',\n",
       " 'Ashuai 2nd Season',\n",
       " 'Ashuai 3rd Season',\n",
       " 'Day by Day CRiSiS Songs',\n",
       " 'After-School Emotion',\n",
       " 'I Just Rock',\n",
       " 'Kimi to, Kono Shunkan',\n",
       " 'Jack the Game',\n",
       " \"MELtin' 17\",\n",
       " 'Everything For A Reason',\n",
       " 'Nanka Noise ni Kikoeru',\n",
       " 'Que Sera Sera Kisoukyoku',\n",
       " \"Meshimase! Rock'n Roll Party\",\n",
       " 'Get a Life!',\n",
       " 'Limits',\n",
       " 'Blueprint',\n",
       " 'New Start de Ready Go!',\n",
       " 'Starting Over',\n",
       " 'Forever and...',\n",
       " 'Kotoba Uta',\n",
       " 'Shikisai Kajou no Diary Music',\n",
       " 'My Crossroad',\n",
       " 'T',\n",
       " 'Shining Dream',\n",
       " 'Daiki',\n",
       " 'C. Y.',\n",
       " 'Futsal Boys!!!!! Short Anime',\n",
       " 'Pokemon Peaceful Place',\n",
       " 'Madogiwa no Totto-chan',\n",
       " 'Fuyu no Okurimono',\n",
       " '667-tsuu no Love Letter',\n",
       " 'Sousei no Aquarion: Myth of Emotions',\n",
       " 'Ququ Bucai, Zaixia Yeguai',\n",
       " 'Nushen You Dian Ling',\n",
       " 'Ayakashi Triangle Recap',\n",
       " 'Hawk no Onayami Soudanshitsu Special',\n",
       " 'Pi Zhe Lang Pi De Yang',\n",
       " 'Gidalilge',\n",
       " 'YouTuNya',\n",
       " 'Bio Sekai Meisaku Gekijou',\n",
       " 'Kodomo datta Tsurai yo',\n",
       " 'Sittakaman!',\n",
       " 'Hello-Ni-Zd-Marha-Bon-Hola',\n",
       " 'Boku no Hero Academia 7th Season',\n",
       " 'Undead Girl Murder Farce',\n",
       " 'Given Movie 2: Hiiragi Mix',\n",
       " 'Mask Danshi wa Koishitakunai noni',\n",
       " 'Bloody Escape: Jigoku no Tousou Geki',\n",
       " 'Metallic Rouge',\n",
       " 'Eternal Boys Next Stage',\n",
       " 'Blue Grass',\n",
       " 'Kamierabi',\n",
       " 'Captain Tsubasa Season 2: Junior Youth-hen',\n",
       " 'Mirai Shounen Conan: Kyodaiki Gigant no Fukkatsu',\n",
       " 'Otome wa Boku ni Koishiteru Special',\n",
       " 'Sora Iro no Tane',\n",
       " 'Ghiblies',\n",
       " 'Takarajima',\n",
       " 'Spider Riders: Oracle no Yuusha-tachi',\n",
       " 'Spider Riders: Yomigaeru Taiyou',\n",
       " 'Natsu e no Tobira',\n",
       " 'Big Wars: Kami Utsu Akaki Kouya ni',\n",
       " 'Flanders no Inu (Movie)',\n",
       " 'Flanders no Inu, Boku no Patrasche',\n",
       " 'The☆Doraemons: Kaitou Dorapin Nazo no Chousenjou!',\n",
       " 'The☆Doraemons: Mushimushi Pyonpyon Daisakusen!',\n",
       " 'The☆Doraemons: Okashina Okashi na Okashinana?',\n",
       " 'Doraemon and Itchy the Stray',\n",
       " 'Doraemon Meets Hattori the Ninja',\n",
       " 'The☆Doraemons: Goal! Goal! Goal!!',\n",
       " 'Doraemon: Time Machine de Oshougatsu',\n",
       " 'The☆Doraemons: Dokidoki Kikansha Daibakusou!',\n",
       " 'Doraemon: Kaette Kita Doraemon',\n",
       " 'Dorami-chan: Arara Shounen Sanzokudan',\n",
       " 'Dorami-chan: Hello Kyouryuu Kids!!',\n",
       " 'Dorami-chan: Aoi Straw Hat',\n",
       " 'Dorami & Doraemons: Space Land Kiki Ippatsu!',\n",
       " 'Dorami & Doraemons: Robot Gakkou Nanafushigi!?',\n",
       " 'Jungle Taitei: Yuuki ga Mirai wo Kaeru',\n",
       " 'Tsuideni Tonchinkan',\n",
       " 'Wolverine',\n",
       " 'X-Men',\n",
       " 'Blade',\n",
       " 'Fate/stay night Movie: Unlimited Blade Works',\n",
       " 'Higashi no Eden: Air Communication',\n",
       " 'Doraemon Movie 29: Shin Nobita no Uchuu Kaitakushi',\n",
       " 'Kemono to Chat',\n",
       " 'Enkinhou no Hako: Hakase no Sagashimono',\n",
       " 'Hermes: Ai wa Kaze no Gotoku',\n",
       " 'Eien no Hou',\n",
       " 'Toriko: Jump Super Anime Tour 2009 Special',\n",
       " 'Marine Snow no Densetsu',\n",
       " 'Gintama: Shiroyasha Koutan',\n",
       " 'Mudazumo Naki Kaikaku: The Legend of Koizumi',\n",
       " 'Uchurei!',\n",
       " 'Bakemonogatari Recap',\n",
       " 'Aos',\n",
       " 'Yu☆Gi☆Oh! Movie: Chou Yuugou! Toki wo Koeta Kizuna',\n",
       " 'Ningen Doubutsuen',\n",
       " 'Kara no Kyoukai Movie 8: Shuushou',\n",
       " 'Working!!',\n",
       " 'Hyakko Extra',\n",
       " 'GA: Geijutsuka Art Design Class - Aozora ga Kakitai',\n",
       " 'Teekyuu',\n",
       " 'Sakura Taisen: Kanadegumi',\n",
       " 'Tanpen Animation Junpei Fujita',\n",
       " 'Aoi Sekai no Chuushin de',\n",
       " 'Entotsuya Peroo',\n",
       " 'Tsuki no Miya no Oujosama',\n",
       " 'Yukiwatari',\n",
       " 'Fantastic Children: Befort no Kodomo-tachi no Sonogo',\n",
       " 'Macross FB7: Ore no Uta wo Kike!',\n",
       " 'Hetalia: The Beautiful World',\n",
       " 'Code Geass: Boukoku no Akito 2 - Hikisakareshi Yokuryuu',\n",
       " 'Code Geass: Boukoku no Akito 3 - Kagayaku Mono Ten yori Otsu',\n",
       " 'Code Geass: Boukoku no Akito 4 - Nikushimi no Kioku kara',\n",
       " 'Nazotoki-hime wa Meitantei♥',\n",
       " '.hack//Versus: The Thanatos Report',\n",
       " 'Hentai Ouji to Warawanai Neko.',\n",
       " 'Kono Sekai no Katasumi ni',\n",
       " 'Kirakira 5th Anniversary Live Anime: Kick Start Generation',\n",
       " 'Hyakujitsu no Bara: Jinginaki Nikukyuu-hen',\n",
       " 'Smile Precure! Movie: Ehon no Naka wa Minna Chiguhagu!',\n",
       " 'Wooser no Sono Higurashi',\n",
       " 'Mondaiji-tachi ga Isekai kara Kuru Sou desu yo?',\n",
       " 'One Piece: Episode of Nami - Koukaishi no Namida to Nakama no Kizuna',\n",
       " 'Dakara Boku wa, H ga Dekinai. Recap',\n",
       " 'Gintama Movie 2: Kanketsu-hen - Yorozuya yo Eien Nare',\n",
       " 'Nisekoi:',\n",
       " 'Yodaka no Hoshi (Music)',\n",
       " 'It Girl',\n",
       " 'Zhong Hua Xiao Zi',\n",
       " 'Cardfight!! Vanguard G',\n",
       " 'Fate/stay night: Unlimited Blade Works Prologue',\n",
       " 'Long Zhi Gu: Poxiao Qibing',\n",
       " 'Heavy Object',\n",
       " 'Durarara!!x2 Ten',\n",
       " 'Durarara!!x2 Ketsu',\n",
       " 'Kenritsu Umisora Koukou Yakyuubu-in Yamashita Tarou-kun',\n",
       " 'Ticonderonga no Iru Umi',\n",
       " 'Karasu no Panya-san/Dorobou Gakkou',\n",
       " 'Nemurenu Yoru no Chiisana Ohanashi',\n",
       " '10-piki no Kaeru',\n",
       " 'Kyoushitsu wa Obake ga Ippai/Boku wa Yuusha da zo',\n",
       " 'Nezumi-kun no Chokki',\n",
       " 'Ushiro no Seki no Ochiai-kun',\n",
       " '1-nen 1-kumi',\n",
       " 'Chibi Neko Chobi/Chibi Neko Kobi to Tomodachi',\n",
       " 'Madan no Ou to Vanadis: Tigre-kun to Vanadi-chu',\n",
       " 'Eromame',\n",
       " 'Ana no Oku no Ii Tokoro',\n",
       " 'Yama no Susume Second Season Specials',\n",
       " 'Sword Art Online II: Debriefing',\n",
       " 'Usamaru',\n",
       " 'Marginal#4: Kiss kara Tsukuru Big Bang',\n",
       " 'Peeping Life x Sanyo',\n",
       " 'Warui no wo Taose!! Salaryman Man',\n",
       " 'Feng Shu Zhan Jing 2',\n",
       " 'Mahou Shoujo Nante Mou Ii desu kara. Second Season',\n",
       " 'ID-0',\n",
       " 'Cheer Danshi!! Recap',\n",
       " 'Shiguang Guiyu',\n",
       " 'Sengoku Choujuu Giga: Kou',\n",
       " 'Macross Δ: Delta Shougekijou',\n",
       " 'Girlfriend (Note)',\n",
       " 'Teekyuu 8',\n",
       " 'Ao Oni The Animation',\n",
       " 'Amanchu!: Yakusoku no Natsu to Atarashii Omoide no Koto',\n",
       " 'Ao Oni The Animation (Movie)',\n",
       " 'Tokyo Dai Kuushuu: Aoyo, Kaette Koi',\n",
       " 'Ten ni Yaka Reru: E ni Yoru Shougen',\n",
       " 'Genbaku Dome Monogatari',\n",
       " 'Satoukibibatake',\n",
       " 'Neko no Kuni no Kenpou',\n",
       " 'Gakushuu Animation Nihon Koku Kenpou',\n",
       " 'Yume Kakeru Kougen: Kiyosato no Chichi Paul Rusch',\n",
       " 'Chii-chan no Kageokuri',\n",
       " 'Sin: Nanatsu no Taizai',\n",
       " 'Supermarket Flowers',\n",
       " 'Chikin Ramen x Gudetama',\n",
       " 'Hi no Tori \"Dougo Onsen-hen\"',\n",
       " 'Gifu no Tatekayoko',\n",
       " 'Watanuki-san Chi no',\n",
       " 'Gundam vs Hello Kitty',\n",
       " 'Ling Long: Incarnation',\n",
       " 'Hanhua Riji',\n",
       " 'Chuizhi Shijie',\n",
       " 'Mei Chuxi de Yinyangshi Yijia',\n",
       " 'Ju Bing Chang Cheng Zhuan',\n",
       " 'Shakuen no Eris',\n",
       " 'D4DJ First Mix',\n",
       " 'Daisuki tte Imi da yo',\n",
       " 'Sayonara Freeway',\n",
       " 'Mabeob Chunjamun',\n",
       " 'Mabeob Chunjamun Season 2',\n",
       " 'Nande Koko ni Sensei ga!? Nande Koko ni Sensei-tachi ga!?',\n",
       " 'Mousou Teikoku Chikuonki',\n",
       " 'Robot Trains',\n",
       " 'Pocari Sweat x Fuji Rock Festival ’17',\n",
       " 'Niigata no Edamame-ou Shiba',\n",
       " 'Mameshiba x Tunes!',\n",
       " 'King of Prism: Shiny Seven Stars',\n",
       " 'Miracle',\n",
       " 'Wu Zhan Dao',\n",
       " 'Dibi Gou',\n",
       " 'Chao Shou Wuzhuang: Yongzhe Wu Ju',\n",
       " 'Gangtie Feilong',\n",
       " 'Gangtie Feilong (Movie)',\n",
       " 'Gangtie Feilong: Zaijian Ultraman',\n",
       " 'Gangtie Feilong: Ultraman Jueqi',\n",
       " 'Gangtie Feilong 3: Shanhai Shenshou Lu',\n",
       " 'Gangtie Feilong 2: Ultraman Liliang',\n",
       " 'Gangtie Feilong 2: Long Hun Juexing',\n",
       " 'Tiejia Wei Chong Zhi Qi Ren Wang',\n",
       " 'Menghuan Xiyou: Tianming Zhi Zhan',\n",
       " 'Menghuan Xiyou: Lei Nu Weiji',\n",
       " 'Koyoi wa Halloween Night!',\n",
       " 'Rubi Yoyo Jiaoyu Xilie: Kuaile Chengzhang',\n",
       " 'Tianshang Diao Xia Ge Zhubajie',\n",
       " 'Jingling Shiji',\n",
       " 'Zhu Zhu Xia: Shenhai Xiao Yingxiong',\n",
       " 'Hong Mao Lan Tu: Nao Xinchun',\n",
       " 'Hong Mao Lan Tu MTV',\n",
       " 'Tonghua Wangguo Lixian Ji',\n",
       " 'QiQi KeKe Lixian Ji',\n",
       " 'Xi Mu Ba Long Jiazu',\n",
       " 'QiQi KeKe Shuo Konglong',\n",
       " 'Shen Chu Xiaofu Gui',\n",
       " 'Ashuai 4th Season',\n",
       " 'Bai Bian Xiao Ba',\n",
       " 'Bai Bian Xiao Ba 2nd Season',\n",
       " 'Bai Bian Xiao Ba 3rd Season',\n",
       " 'Bai Bian Xiao Ba 4th Season',\n",
       " 'Bai Bian Xiao Ba 5th Season',\n",
       " 'Bai Bian Xiao Ba 6th Season',\n",
       " 'Bai Bian Xiao Ba: Chao Xue Xianfeng',\n",
       " 'Bai Bian Xiao Ba: Chao Xue Xianfeng 2nd Season',\n",
       " 'Qi Qu Tegong Dui',\n",
       " 'Qi Qu Tegong Dui 2nd Season',\n",
       " 'Sanxingdui Rongyao Juexing',\n",
       " 'Xiao Liangmao: Bailu Guilai',\n",
       " 'Xiao Liangmao 2: Mofa Liangmao',\n",
       " 'Wudang Hong Shaonian',\n",
       " 'Wudang Hong Shaonian 2',\n",
       " 'Mo Neng Sheng Jia',\n",
       " 'Jijia Yingxiong: Ji Dou Yongzhe',\n",
       " 'Meng Bao Zhan Jing',\n",
       " 'Mofa Cheng',\n",
       " 'Chao Jiachong Zhan Ji: Sheng Yu Chuanshuo',\n",
       " 'Tegong Huan Ying 2: Conglin Tegong Dui',\n",
       " 'Tegong Huan Ying: Conglin Mi Ying',\n",
       " 'Wo Shi Faming Jia',\n",
       " 'Shenqi Budai Xiaozi',\n",
       " 'Vivid Vice',\n",
       " 'Dizzy Dizzy',\n",
       " 'Universe (2016)',\n",
       " 'Raikou Shinki Aigis Magia: Pandra Saga 3rd Ignition - The Animation',\n",
       " 'Kanojo, Okarishimasu Petit 2nd Season',\n",
       " 'XYZ Note',\n",
       " 'Pizza',\n",
       " 'Brave',\n",
       " 'Ppeonhan Chicken',\n",
       " 'BANZAI! digital trippers',\n",
       " 'Uta no☆Prince-sama♪ Maji Love ST☆RISH Tours: Tabi no Hajimari',\n",
       " \"I'm Your Treasure Box: Anata wa Marine Senchou wo Takarabako kara Mitsuketa.\",\n",
       " 'Pokemon ASMR',\n",
       " 'Boku no Kokoro no Yabai Yatsu',\n",
       " 'From Tokyo',\n",
       " 'City (Music)',\n",
       " 'Feiqi Zhi Cheng',\n",
       " 'Zhongshan Hun',\n",
       " 'Ye Che',\n",
       " 'Kaijuu 8-gou',\n",
       " 'Zentaiteki ni Sensation',\n",
       " 'Juice',\n",
       " 'Si Wuxie',\n",
       " 'Onna no Sono no Hoshi',\n",
       " 'Shounen Sunday CM: Konjiki no Gash!!',\n",
       " 'Fei Xiang Yueqiu',\n",
       " 'Qian Ting Zong Dong Yuan 8: Di Xin Youji',\n",
       " 'Qian Ting Zong Dong Yuan: Huan You Diqiu 80 Tian',\n",
       " 'Chaoji Yingxiong Mei Hou Wang: Qi Tianer',\n",
       " 'Meng Shu Da Maoxian',\n",
       " 'Zhongkui',\n",
       " 'Huanle Conglin: Wai Xīng Renda Maoxian',\n",
       " 'Hantu de Qihuan Zhi Lu',\n",
       " 'Mianhua Tang He Yunduo Mama: \"Niu\" Zhuan Qiankun',\n",
       " 'Mianhua Tang He Yunduo Mama: Baobei Xin Jihua',\n",
       " 'Cha A Er Zhong Movie',\n",
       " 'Shimajirou no Wow! Movie 11: Shimajirou to Yuuki no Uta',\n",
       " 'Bai Bian Mading: Guaishou Da Zuozhan',\n",
       " 'Fengkuang Xiao Shijie',\n",
       " 'Mao Nian Haian',\n",
       " 'Shi Yi Nanhai',\n",
       " 'Mo Zhuang Chuanshuo',\n",
       " 'BT21 x Baby Shark',\n",
       " 'Dramatic Nounai',\n",
       " 'Untouchable',\n",
       " 'Ingel',\n",
       " 'Dungeon no Naka no Hito',\n",
       " 'Mahoutsukai Sally: Astraea Palace no Party',\n",
       " 'Loop 7-kaime no Akuyaku Reijou wa, Moto Tekikoku de Jiyuu Kimama na Hanayome Seikatsu wo Mankitsu suru',\n",
       " 'Code Name X',\n",
       " 'Otsuki-sama to Kageboushi',\n",
       " 'Shusse Ondo da yo!',\n",
       " 'Warashi no Uta',\n",
       " 'Kubrick',\n",
       " 'Wangzhe Rongyao: Rongyao Zhi Zhang',\n",
       " 'Mawangui Ttal Ireesha',\n",
       " 'Bai Bian Xiao Ba: Chao Xue Xianfeng 3nd Season',\n",
       " 'Zaiyuki Pilot',\n",
       " 'Nihongo no Okeiko',\n",
       " 'Sanbiki no Hachi',\n",
       " 'Futsuu to wa',\n",
       " 'ACA',\n",
       " 'Kudamonou',\n",
       " 'Bai Bian Xiao Ba: Chao Xue Xianfeng 4nd Season',\n",
       " 'Mane',\n",
       " 'Tom Pillibi',\n",
       " 'Guitar Case no Naka no Boku',\n",
       " 'Honmatsu Tentoumushi',\n",
       " 'Kennedy Knights Pilot Film',\n",
       " 'Akuyaku Reijou Tensei Ojisan',\n",
       " 'Valis the Animation',\n",
       " 'Up Up Appliqué',\n",
       " 'Moshi Boku ga',\n",
       " 'Sunabikisou',\n",
       " 'Choujou Genshou Dance Dance',\n",
       " 'Shen Wu Tianzun',\n",
       " 'Incha Couple ga You Gal-tachi to Sex Training Suru Hanashi',\n",
       " 'Wasurete Kudasai',\n",
       " 'Nan no Koreshiki Furoshikiman',\n",
       " 'Yuigadokuson',\n",
       " 'UTuber',\n",
       " 'Momiji',\n",
       " '2002 Civic',\n",
       " 'Jigoku Sensei Nube (2025)',\n",
       " 'Jigoku Sensei Nube (2025)',\n",
       " 'Hoyahoyaraa',\n",
       " 'Fly Me to the Moon',\n",
       " 'Akarui Sekai',\n",
       " 'Salaryman ga Isekai ni Ittara Shitennou ni Natta Hanashi',\n",
       " 'Dai Dai Dai Fantasista',\n",
       " 'Wo De San Ti',\n",
       " 'Wo De San Ti: Luo Ji Zhuan',\n",
       " 'Wo De San Ti 4th Season',\n",
       " 'Shi Dao Zhe',\n",
       " 'Hajimete no Boku desu',\n",
       " '-Socket-',\n",
       " 'Turning the Tera Tide',\n",
       " 'Net Miracle Shopping',\n",
       " 'Net Miracle Shopping 2nd Season',\n",
       " 'Rock wa Lady no Tashinami deshite',\n",
       " 'Dorami-chan: Mini-Dora SOS!!!',\n",
       " 'Doraemon: 2112-nen Doraemon Tanjou',\n",
       " 'Doraemon: Obaachan no Omoide',\n",
       " 'Doraemon Movie: Boku, Momotarou no Nanna no Sa',\n",
       " 'Doraemon: Kaette Kita Doraemon (Movie)',\n",
       " 'Doraemon: The Day When I Was Born',\n",
       " 'Doraemon: Ganbare! Gian!!',\n",
       " 'Doraemon Movie 22: Nobita to Tsubasa no Yuusha-tachi',\n",
       " 'Doraemon Movie 23: Nobita to Robot Kingdom',\n",
       " 'Doraemon Movie 25: Nobita no Wan Nyan Jikuuden',\n",
       " 'Doraemon Movie 08: Nobita to Ryuu no Kishi',\n",
       " 'Doraemon Movie 09: Nobita no Parallel Saiyuuki',\n",
       " 'Doraemon Movie 14: Nobita to Buriki no Labyrinth',\n",
       " \"Doraemon: Nobita's the Night Before a Wedding\",\n",
       " 'Doraemon Movie 13: Nobita to Kumo no Oukoku',\n",
       " 'Doraemon Movie 02: Nobita no Uchuu Kaitakushi',\n",
       " 'Doraemon Movie 19: Nobita no Nankai Daibouken',\n",
       " 'Doraemon Movie 07: Nobita to Tetsujin Heidan',\n",
       " 'Doraemon Movie 10: Nobita no Nippon Tanjou',\n",
       " 'Doraemon Movie 04: Nobita no Kaitei Kiganjou',\n",
       " 'Doraemon Movie 20: Nobita no Uchuu Hyouryuuki',\n",
       " 'Doraemon Movie 06: Nobita no Little Star Wars',\n",
       " 'Doraemon Movie 12: Nobita no Dorabian Nights',\n",
       " 'Doraemon Movie 03: Nobita no Daimakyou',\n",
       " 'Doraemon Movie 05: Nobita no Makai Daibouken',\n",
       " 'Yuu☆Yuu☆Hakusho Picture Drama',\n",
       " 'Kaiketsu Zorori: Mahoutsukai no Deshi/Dai Kaizoku no Takara Sagashi',\n",
       " 'Choujin Sentai Baratack',\n",
       " 'Gegege no Kitarou (1971)',\n",
       " 'Senkou no Night Raid',\n",
       " 'Seikimatsu Occult Gakuin',\n",
       " 'Koro no Dai Sanpo',\n",
       " 'Kyoufu Densetsu Kaiki! Frankenstein',\n",
       " 'Shukufuku no Campanella',\n",
       " 'Kaidan Restaurant',\n",
       " 'Super Zugan',\n",
       " 'Hidamari Sketch x 365 Specials',\n",
       " 'Buddha Saitan',\n",
       " 'Kansen: Inyoku no Rensa',\n",
       " 'Aki-Sora',\n",
       " 'Doraemon Movie 30: Nobita no Ningyo Daikaisen',\n",
       " 'Uchuu Ace',\n",
       " 'Hoshi ni Negai wo: Fantastic Cat',\n",
       " 'Koneko no Rakugaki',\n",
       " 'Koneko no Studio',\n",
       " 'Tennis no Oujisama: Another Story - Kako to Mirai no Message Specials',\n",
       " 'Shin Calimero',\n",
       " 'Tezuka Osamu no Buddha: Akai Sabaku yo! Utsukushiku',\n",
       " 'Senjou no Valkyria: SenVal Theater',\n",
       " 'K-On!: Ura-On!',\n",
       " 'Meitantei Holmes: Aoi Ruby no Maki / Kaitei no Zaihou no Maki',\n",
       " 'Kyousou Giga (2012)',\n",
       " 'Hyakka Ryouran: Samurai Bride',\n",
       " 'Kotoura-san',\n",
       " 'Kremlin',\n",
       " 'Kagaku na Yatsura',\n",
       " 'Sakura no Ondo',\n",
       " 'The Siamese: First Mission',\n",
       " 'Magical Suite Prism Nana',\n",
       " 'Oyakodon: Oppai Tokumori Bonyuu Tsuyudaku de',\n",
       " 'Arcana Famiglia: Capriccio - stile Arcana Famiglia',\n",
       " \"Gintama': Enchousen\",\n",
       " 'Antinotice',\n",
       " 'Natsu-iro Kiseki: 15-kaime no Natsuyasumi',\n",
       " 'Kore wa Zombie desu ka? of the Dead: Hai, Minotake ni Attemasu',\n",
       " 'Kono Danshi, Ningyo Hiroimashita.',\n",
       " 'High School DxD New',\n",
       " 'Shinryaku! Ika Musume: Kore ga Umi e no Ai Jana-ika!',\n",
       " 'Sakura',\n",
       " 'Hey Yo Yorang',\n",
       " 'Kuroko no Basket NG-shuu',\n",
       " 'Yu☆Gi☆Oh! Zexal Second',\n",
       " 'Shining Hearts: Shiawase no Pan Specials',\n",
       " 'Bokura no Hero',\n",
       " '24H',\n",
       " 'Tokyo Ghoul √A',\n",
       " 'Gundam Build Fighters Specials',\n",
       " 'Otome Hime',\n",
       " 'Anime de Wakaru Shinryounaika',\n",
       " 'Captain',\n",
       " 'Genkichi Jiisan to Kogitsune',\n",
       " 'Urawa no Usagi-chan',\n",
       " 'Afro Samurai Pilot',\n",
       " 'Nano Invaders',\n",
       " 'Gugure! Kokkuri-san Specials',\n",
       " 'Lupin III (2015)',\n",
       " 'Mattsu to Yanma to Moburi-san: Nanatsu no Hihou to Soratobu Oshiro',\n",
       " 'Mattsu to Yanma to Moburi-san 2: Suigun Otakara to Nazotoki no Shimajima',\n",
       " 'Steins;Gate: Soumei Eichi no Cognitive Computing',\n",
       " 'Science Anime: Choudendou Monogatari',\n",
       " 'Shouta no Sushi: Kokoro ni Hibiku Shari no Aji',\n",
       " 'Maboroshi Mabo-chan',\n",
       " 'Senran Kagura Estival Versus: Mizugi-darake no Zenyasai',\n",
       " 'Hana to Alice: Satsujin Jiken',\n",
       " 'Hibike! Euphonium',\n",
       " 'K: Return of Kings',\n",
       " 'Tetsujin 28-gou: Tanjou-hen',\n",
       " 'Kaitou Tenshi Twin Angel: Kyunkyun☆Tokimeki Paradise!! OVA',\n",
       " 'Macross Δ',\n",
       " 'Sayounara Kaba-kun',\n",
       " 'PJ Berri no Mogumogu Munyamunya',\n",
       " 'Seiren',\n",
       " 'Alice in Deadly School',\n",
       " 'Kabuki-bu!',\n",
       " 'Fushigi no Yappo Shima: Pukipuki to Poi',\n",
       " 'Matsubara-kun: Mackie E no Ouen Message',\n",
       " 'Free! Movie 1: Timeless Medley - Kizuna',\n",
       " 'Garo: Guren no Tsuki - Yurugaro',\n",
       " 'Nekoronde ID',\n",
       " 'Nil Admirari no Tenbin',\n",
       " 'KoSys! Lite',\n",
       " 'Show By Rock!! x Joysound',\n",
       " 'Saitama-ken Zaijuu, Fujiyama Osamu, 33-sai, Mushoku (NEET).: Fujilog Nyuumon-hen',\n",
       " 'Saitama-ken Zaijuu, Fujiyama Osamu, 33-sai, Mushoku (NEET).: Fujilog Nyuumon-hen Specials',\n",
       " 'Kissaten Soudou',\n",
       " 'Chicken Papa',\n",
       " 'Saru Kani Gassen (Yokoku)',\n",
       " 'Nani no Yaku ni Mo Tatanai Karappona Hanashi',\n",
       " 'Chichi Kaeru',\n",
       " 'Cakes',\n",
       " 'Fujilog (ONA)',\n",
       " '8-shaku 8-wa Kerakumeguri: Igyou Kaikitan The Animation',\n",
       " 'Wonder',\n",
       " 'Kabi Usagi (2016)',\n",
       " 'Kabi Usagi',\n",
       " 'Nanatsu no Taizai: Kamigami no Gekirin',\n",
       " 'The Closet',\n",
       " 'Shiroi Unabara',\n",
       " 'One Punch Man 2nd Season Specials',\n",
       " 'Cat Step',\n",
       " 'Gekiyaba∞Bokkan!!',\n",
       " 'Fairy Ngoo',\n",
       " 'Amanchu!: Upyopyo Dive Tsukkome! Umi no Sekai!',\n",
       " 'Yesterday wo Utatte',\n",
       " 'Bumblebee Hajimete no Chikyuu Seikatsu',\n",
       " 'Beam!',\n",
       " 'Blue Hawaii feat. Crush, Penomeco',\n",
       " 'Jah Jhaka',\n",
       " 'Mu Wang Zhi Wang: Xuan Guan Si',\n",
       " 'Fairy Tail x Mameshiba',\n",
       " 'Himote House: Dai Panic! Minna de Gokiburi Taiji',\n",
       " 'I★Chu: Halfway Through the Idol',\n",
       " 'Houkago Kappa',\n",
       " 'Eden (ONA)',\n",
       " 'Houkago Teibou Nisshi',\n",
       " 'Na Bbeun Sang Sa',\n",
       " 'Line Novel',\n",
       " 'Baja no Studio: Baja no Mita Umi',\n",
       " 'Li Shi',\n",
       " 'Mushishi Recap',\n",
       " 'Tu Baobao He San Jian Shenqi Baobei',\n",
       " 'Zhongguo Nanhai: Hong Zhanhui',\n",
       " 'Huazhi De Gushi',\n",
       " 'Idol Land PriPara',\n",
       " 'Xinling Zhi Chuang',\n",
       " 'Lei Feng De Gushi',\n",
       " 'Sankaku Mado no Sotogawa wa Yoru',\n",
       " 'Biao Ren: Blades of the Guardians',\n",
       " 'Zi Chuan',\n",
       " 'Tian Mei De Yao Hen',\n",
       " 'Shen Shou Jin Gang 2: Tianshen De Shou',\n",
       " 'Shen Shou Jin Gang 3: Chao Bianxing Jia',\n",
       " 'Shen Shou Jin Gang 4: Bang Bao Lixian Ji',\n",
       " 'Shen Shou Jin Gang 5: Chao Neng Jing Jia',\n",
       " 'Shen Shou Jin Gang: Qinglong Zaixian',\n",
       " 'Jing Ma Zhanshi',\n",
       " 'Konglong Baobei',\n",
       " 'Konglong Baobei: Shiluo De Wenming',\n",
       " 'Da Wang Rao Ming',\n",
       " 'Shinkai (2020)',\n",
       " 'Long Zu',\n",
       " 'Osomatsu-san 3rd Season Specials',\n",
       " 'Xing Hai Qishi',\n",
       " 'Shi Ye Miao Yin',\n",
       " 'Doupo Cangqiong 4th Season',\n",
       " 'Lei Xuan',\n",
       " 'Jiuyuan Baobei',\n",
       " 'Jiuyuan Baobei 2nd Season',\n",
       " 'Xiongmao He Luta',\n",
       " 'Hanzi Gongzhu Mao Xiao Mei',\n",
       " 'Jiling Chongwu Che',\n",
       " 'Danche Xia',\n",
       " 'Xiao Mao Tang Mi',\n",
       " 'Long Tu Zhandui',\n",
       " 'Kuaile Duoduo',\n",
       " 'Ben Ben Xiao Feiche',\n",
       " 'D5 Xiaodui',\n",
       " 'D5 Xiaodui 2nd Season',\n",
       " 'Jingang Shanmao Xia',\n",
       " 'Zhuang Chen Fan Dou Zhan Che',\n",
       " 'Wo De Hao Pengyou Zuo Zuo',\n",
       " 'Gan Xiao: Feng Qi',\n",
       " 'Tonggu Qi Yuan',\n",
       " 'Du Dang Man Zhiye Tiyan',\n",
       " 'Tianmi Tegong Dui',\n",
       " 'Rick He Coco',\n",
       " 'Rick He Coco 2nd Season',\n",
       " 'Maomao Zhen',\n",
       " 'Maomao Zhen 2nd Season',\n",
       " 'Donghua Shuo Tangshi',\n",
       " 'Zigi',\n",
       " 'Tensei Kizoku no Isekai Boukenroku: Jichou wo Shiranai Kamigami no Shito',\n",
       " 'Asi Yu Xiao Liangdang',\n",
       " 'Okashi na Tensei',\n",
       " 'Petit! Tokyo Mew Mew New ♡',\n",
       " 'Mix: Meisei Story 2nd Season - Nidome no Natsu, Sora no Mukou e',\n",
       " 'Shounen Sunday CM: LOVe',\n",
       " 'Shounen Sunday CM: Major',\n",
       " 'Succubus Yondara Gibo ga Kita!?',\n",
       " 'Shounen Sunday CM: H2',\n",
       " 'Jidou Hanbaiki ni Umarekawatta Ore wa Meikyuu wo Samayou',\n",
       " 'Shounen Sunday CM: Megumi no Daigo',\n",
       " 'Shounen Sunday CM: Yakitate!! Japan',\n",
       " 'Shounen Sunday CM: Fantasista',\n",
       " 'Wangu Shenhua',\n",
       " 'Duoyun Shi Qing',\n",
       " 'Shanchuan Zhuangli',\n",
       " 'Da Maoxian Tielu',\n",
       " 'Bailu',\n",
       " 'Kan Wu Fengjing',\n",
       " 'Yinni De Fangcun Kongjian',\n",
       " 'Ke Ai',\n",
       " 'Dengta',\n",
       " 'Gou Gou Shangxin Zhi',\n",
       " 'Dang Yigeren',\n",
       " 'Otenki Pokojiro',\n",
       " 'Na mo Nai Mizuumi',\n",
       " 'Tooi Sekai ni (2023)',\n",
       " 'Mirror Me',\n",
       " 'Kimi ni Todoke 3rd Season',\n",
       " 'Kobuta no Shippo',\n",
       " 'Sayonara no Mukou ni',\n",
       " 'Egao ga Kaze ni Modoru Shunkan',\n",
       " 'Gintama on Theater 2D: Baragaki-hen',\n",
       " 'Midori no Makiba de',\n",
       " 'Nagaina-san to Hayaina-san',\n",
       " 'Dekkai Baachan',\n",
       " 'Non-sugar',\n",
       " 'Nejikure Ojisan',\n",
       " 'Honnou da Zou',\n",
       " 'Watashi no Oshi wa Akuyaku Reijou. Mini Anime',\n",
       " 'Kurayukaba',\n",
       " 'Michi Kaidan',\n",
       " 'Hippity Hoppity Pump',\n",
       " 'Yamabato Waltz',\n",
       " 'Eldraine no Mori: Twin Fates',\n",
       " 'Longzhu Xun Youji',\n",
       " 'Shenqi Tushu Guan',\n",
       " 'Idol Land PriPara Episode 0',\n",
       " 'Daikaijuu Gamenya Shuurai',\n",
       " 'Toritsukare Otoko',\n",
       " 'Feel Like',\n",
       " 'Dekichau made Kon',\n",
       " 'Ai♡Scream!',\n",
       " 'Youqu de Chengyu Gushi',\n",
       " 'Ling Long Di Yi Ji Jing Bian Ban',\n",
       " 'Douluo Dalu: Jiandao Chen Xin',\n",
       " '1 Fenzhong Donghua Juchang',\n",
       " 'Liaozhai: Lanre Si',\n",
       " 'Da Yuan Hun',\n",
       " 'Shixiong A Shixiong Nian Fan 2',\n",
       " 'S-Rank Party kara Kaiko sareta \"Jugushi\"',\n",
       " 'Gacha wo Mawashite Nakama wo Fuyasu: Saikyou no Bishoujo Gundan wo Tsukuriagero',\n",
       " 'Akuyaku Reijou no Naka no Hito',\n",
       " 'Vibes',\n",
       " 'Wiheomhan Pyeonuijeom',\n",
       " 'Chibi Godzilla no Gyakushuu 3rd Season',\n",
       " 'Cream de Ai ni Ikemasu ka',\n",
       " 'Kono Hon wo Nusumu Mono wa',\n",
       " 'Nippon Animation 50-shuunen Kinen Movie',\n",
       " 'Wonder Agent Yanen',\n",
       " \"Let's Play: Quest-darake no My Life\",\n",
       " 'BT21 The Journey',\n",
       " 'Kangae ga Aru Kangaroo',\n",
       " 'Dotoli Munhwasenteo',\n",
       " 'Chang An Du Wu Si',\n",
       " 'Shi Shen',\n",
       " 'Zi Heian Zhong Zou Lai',\n",
       " 'Zi Heian Zhong Zou Lai',\n",
       " 'Zi Heian Zhong Zou Lai',\n",
       " 'Zi Heian Zhong Zou Lai',\n",
       " 'Tsuki no Utsuwa',\n",
       " 'Caishen Dou Zhanlong',\n",
       " 'Yongbing Tianxia',\n",
       " 'Jian Ke',\n",
       " 'Qixing Lu Wanggong',\n",
       " 'Qixing Lu Wanggong',\n",
       " 'Xiang Wang Shi',\n",
       " 'Xiang Wang Shi',\n",
       " 'Xiang Wang Shi',\n",
       " 'Yi Na He Qiaqia 2nd Season',\n",
       " 'Yi Zhi Baobao',\n",
       " 'Yi Zhi Baobao 2nd Season',\n",
       " 'Shuangsheng Wu Hun',\n",
       " 'Dang Shen Bu Rang',\n",
       " 'Dang Shen Bu Rang',\n",
       " 'Dang Shen Bu Rang',\n",
       " 'Saibo Jian Xian Tie Yu',\n",
       " 'Saibo Jian Xian Tie Yu',\n",
       " 'Saibo Jian Xian Tie Yu',\n",
       " 'Tactics',\n",
       " 'Tenjou Tenge',\n",
       " 'Tokyo Underground',\n",
       " 'Triangle Heart: Sweet Songs Forever',\n",
       " 'Tsubasa Chronicle',\n",
       " 'Ultra Maniac',\n",
       " 'Ultra Maniac OVA',\n",
       " 'Vandread',\n",
       " 'Vandread: The Second Stage',\n",
       " 'Tenkuu no Escaflowne',\n",
       " 'Whistle!',\n",
       " 'Xenosaga The Animation',\n",
       " 'Initial D First Stage',\n",
       " 'Initial D Second Stage',\n",
       " 'Initial D Third Stage',\n",
       " 'Gosenzo Sane',\n",
       " 'Love Hina',\n",
       " 'Love Hina Again',\n",
       " 'Love Hina Christmas Special: Silent Eve',\n",
       " 'Love Hina Haru Special: Kimi Sakura Chiru Nakare!!',\n",
       " 'Maburaho',\n",
       " 'Macross Zero',\n",
       " 'Onegai☆Teacher',\n",
       " 'Onegai☆Twins',\n",
       " 'Rizelmine',\n",
       " 'Doraemon Movie 27: Nobita no Shin Makai Daibouken - 7-nin no Mahoutsukai',\n",
       " 'Doraemon Movie 16: Nobita no Sousei Nikki',\n",
       " 'Doraemon Movie 17: Nobita to Ginga Express',\n",
       " 'Doraemon Movie 15: Nobita to Mugen Sankenshi',\n",
       " 'Doraemon Movie 11: Nobita to Animal Planet',\n",
       " 'Doraemon Movie 18: Nobita no Nejimaki City Boukenki',\n",
       " 'Teki wa Kaizoku: Neko-tachi no Kyouen',\n",
       " 'Spaceship Agga Ruter',\n",
       " 'Aoki Densetsu Shoot! (Movie)',\n",
       " 'Tokyo Majin Gakuen Kenpuuchou: Tou Dai Ni Maku',\n",
       " 'Buzzer Beater 2nd Season',\n",
       " 'Tsubasa: Tokyo Revelations',\n",
       " 'Tetsujin 28-gou',\n",
       " 'Gokuu no Daibouken',\n",
       " 'Akai Koudan Zillion',\n",
       " 'Akai Koudan Zillion: Utahime Yakyoku',\n",
       " 'Urban Square: Kohaku no Tsuigeki',\n",
       " 'CB Chara Go Nagai World',\n",
       " 'Detatoko Princess',\n",
       " 'Hidamari no Ki',\n",
       " 'Kidou Senshi Gundam 0083: Zeon no Zankou',\n",
       " 'Crusher Joe OVA',\n",
       " 'Hi-Speed Jecy',\n",
       " 'Sanctuary',\n",
       " 'Uchuu Kaizoku Mito no Daibouken',\n",
       " 'Fashion',\n",
       " 'Ni-hiki no Sanma',\n",
       " 'G-senjou no Higeki',\n",
       " 'Heya',\n",
       " 'Kiseichuu no Ichiya',\n",
       " 'Mado',\n",
       " 'Manga',\n",
       " 'Pop',\n",
       " 'Tonari no Yarou',\n",
       " 'Kemeko no Love',\n",
       " 'Satsujinkyou Jidai',\n",
       " 'Kitte no Gensou',\n",
       " 'Seto no Hanayome OVA Specials',\n",
       " 'Zan Sayonara Zetsubou Sensei Bangaichi',\n",
       " 'Doraemon Movie 21: Nobita no Taiyou Ou Densetsu',\n",
       " 'Crush Gear Nitro',\n",
       " 'Shinshuu Sudama-hen',\n",
       " 'Fault!!',\n",
       " 'Kaichou wa Maid-sama!',\n",
       " 'Uragiri wa Boku no Namae wo Shitteiru',\n",
       " 'Black★Rock Shooter (OVA)',\n",
       " 'Ring of Gundam',\n",
       " 'Hidamari Sketch x ☆☆☆',\n",
       " 'Mahoromatic: Tadaima Okaeri',\n",
       " 'Shoujouji no Tanuki-bayashi',\n",
       " 'Wamono',\n",
       " 'Yakimochi Caprice',\n",
       " 'Yumekuri',\n",
       " 'Tsugou no Yoi Sexfriend?',\n",
       " 'Unsweet: Netorare Ochita Onna-tachi',\n",
       " 'Namanaka Hyaku Percent!: Katamusubi no Shinpa',\n",
       " 'Oshiri Kajiri Mushi (TV)',\n",
       " 'Cross Fight B-Daman eS',\n",
       " 'Maken-Ki! Two',\n",
       " 'Hello Kitty no Fushigi no Kuni no Alice',\n",
       " 'Shinkai Densetsu Meremanoid',\n",
       " 'Date A Live',\n",
       " 'Joshiraku OVA',\n",
       " 'Brothers Conflict',\n",
       " 'Ai no Wakakusa Monogatari Specials',\n",
       " 'Kono Naka ni Hitori, Imouto ga Iru!: Ani, Imouto, Koibito',\n",
       " 'Cardfight!! Vanguard: Link Joker-hen',\n",
       " 'Hakkenden: Touhou Hakken Ibun',\n",
       " 'Jinrui wa Suitai Shimashita Specials',\n",
       " 'Code:Breaker OVA',\n",
       " 'Puchimas!: Petit iDOLM@STER',\n",
       " 'Phi Brain: Kami no Puzzle - Shukuteki! Rätsel-hen',\n",
       " 'Stay the Same',\n",
       " 'Yuke! Shouei-kun',\n",
       " 'Kerokero Keroppi no Gulliver no Bouken',\n",
       " 'Slippy Dandy',\n",
       " 'Ishii Hisaichi no Nanda Kanda Gekijou',\n",
       " 'Tsuru no Sugomori',\n",
       " 'Tsukimonogatari',\n",
       " 'Kitsune no Home Run Ou',\n",
       " 'Baguda-jou no Touzoku',\n",
       " 'Kogane no Hana',\n",
       " 'Kokoro no Chikara',\n",
       " 'Numa no Taishou',\n",
       " 'Kaeru San Yuushi',\n",
       " 'Kumo no Ito',\n",
       " 'Yuki no Yoru no Yume',\n",
       " 'Dangobei Torimonochou: Hirake - Goma no Maki',\n",
       " 'Sword Art Online II: Sword Art Offline II',\n",
       " 'Kyouryoku Boukuusen',\n",
       " 'Shigatsu wa Kimi no Uso: Moments',\n",
       " 'Itsumo Kokoro ni Taiyou wo!',\n",
       " 'Papa Mama Bye Bye',\n",
       " 'Go! Go! 575: Meippai ni, Hajiketeru?',\n",
       " 'Wonder (Movie)',\n",
       " 'Ehon Yose',\n",
       " 'Oyo Neko Bunyan',\n",
       " 'Hana wa Saku: Touhoku ni Saku',\n",
       " 'Little Twins',\n",
       " 'Little Twins: Bokura no Natsu ga Tondeiku',\n",
       " ...]"
      ]
     },
     "execution_count": 5,
     "metadata": {},
     "output_type": "execute_result"
    }
   ],
   "source": [
    "data[\"title\"].tolist()"
   ]
  },
  {
   "cell_type": "code",
   "execution_count": null,
   "id": "326bdfff-d63b-4220-8454-755d43b37fc1",
   "metadata": {},
   "outputs": [],
   "source": []
  }
 ],
 "metadata": {
  "kernelspec": {
   "display_name": "Python 3 (ipykernel)",
   "language": "python",
   "name": "python3"
  },
  "language_info": {
   "codemirror_mode": {
    "name": "ipython",
    "version": 3
   },
   "file_extension": ".py",
   "mimetype": "text/x-python",
   "name": "python",
   "nbconvert_exporter": "python",
   "pygments_lexer": "ipython3",
   "version": "3.12.7"
  }
 },
 "nbformat": 4,
 "nbformat_minor": 5
}
